{
 "cells": [
  {
   "cell_type": "code",
   "execution_count": 1,
   "id": "a95866ad",
   "metadata": {},
   "outputs": [],
   "source": [
    "# Importing libraries\n",
    "import numpy as np\n",
    "import pandas as pd\n",
    "import matplotlib.pyplot as plt\n",
    "import os\n",
    "\n",
    "from sklearn.model_selection import train_test_split\n",
    "from sklearn.preprocessing import StandardScaler, OneHotEncoder\n",
    "from sklearn.linear_model import LogisticRegression\n",
    "from sklearn.metrics import accuracy_score\n",
    "from math import exp"
   ]
  },
  {
   "cell_type": "code",
   "execution_count": 2,
   "id": "aef56f1e",
   "metadata": {},
   "outputs": [
    {
     "data": {
      "text/html": [
       "<div>\n",
       "<style scoped>\n",
       "    .dataframe tbody tr th:only-of-type {\n",
       "        vertical-align: middle;\n",
       "    }\n",
       "\n",
       "    .dataframe tbody tr th {\n",
       "        vertical-align: top;\n",
       "    }\n",
       "\n",
       "    .dataframe thead th {\n",
       "        text-align: right;\n",
       "    }\n",
       "</style>\n",
       "<table border=\"1\" class=\"dataframe\">\n",
       "  <thead>\n",
       "    <tr style=\"text-align: right;\">\n",
       "      <th></th>\n",
       "      <th>SEASON_ID</th>\n",
       "      <th>TEAM_ID</th>\n",
       "      <th>TEAM_ABBREVIATION</th>\n",
       "      <th>TEAM_NAME</th>\n",
       "      <th>GAME_ID</th>\n",
       "      <th>GAME_DATE</th>\n",
       "      <th>MATCHUP</th>\n",
       "      <th>WL</th>\n",
       "      <th>MIN</th>\n",
       "      <th>FGM</th>\n",
       "      <th>...</th>\n",
       "      <th>DREB</th>\n",
       "      <th>REB</th>\n",
       "      <th>AST</th>\n",
       "      <th>STL</th>\n",
       "      <th>BLK</th>\n",
       "      <th>TOV</th>\n",
       "      <th>PF</th>\n",
       "      <th>PTS</th>\n",
       "      <th>PLUS_MINUS</th>\n",
       "      <th>VIDEO_AVAILABLE</th>\n",
       "    </tr>\n",
       "  </thead>\n",
       "  <tbody>\n",
       "    <tr>\n",
       "      <th>0</th>\n",
       "      <td>22021</td>\n",
       "      <td>1610612746</td>\n",
       "      <td>LAC</td>\n",
       "      <td>LA Clippers</td>\n",
       "      <td>22101083</td>\n",
       "      <td>2022-03-22</td>\n",
       "      <td>LAC @ DEN</td>\n",
       "      <td>L</td>\n",
       "      <td>240</td>\n",
       "      <td>42</td>\n",
       "      <td>...</td>\n",
       "      <td>29</td>\n",
       "      <td>35</td>\n",
       "      <td>27</td>\n",
       "      <td>3</td>\n",
       "      <td>7</td>\n",
       "      <td>6</td>\n",
       "      <td>19</td>\n",
       "      <td>115</td>\n",
       "      <td>-12</td>\n",
       "      <td>1</td>\n",
       "    </tr>\n",
       "    <tr>\n",
       "      <th>1</th>\n",
       "      <td>22021</td>\n",
       "      <td>1610612743</td>\n",
       "      <td>DEN</td>\n",
       "      <td>Denver Nuggets</td>\n",
       "      <td>22101083</td>\n",
       "      <td>2022-03-22</td>\n",
       "      <td>DEN vs. LAC</td>\n",
       "      <td>W</td>\n",
       "      <td>240</td>\n",
       "      <td>45</td>\n",
       "      <td>...</td>\n",
       "      <td>34</td>\n",
       "      <td>40</td>\n",
       "      <td>31</td>\n",
       "      <td>4</td>\n",
       "      <td>5</td>\n",
       "      <td>11</td>\n",
       "      <td>19</td>\n",
       "      <td>127</td>\n",
       "      <td>12</td>\n",
       "      <td>1</td>\n",
       "    </tr>\n",
       "    <tr>\n",
       "      <th>2</th>\n",
       "      <td>22021</td>\n",
       "      <td>1610612749</td>\n",
       "      <td>MIL</td>\n",
       "      <td>Milwaukee Bucks</td>\n",
       "      <td>22101082</td>\n",
       "      <td>2022-03-22</td>\n",
       "      <td>MIL vs. CHI</td>\n",
       "      <td>W</td>\n",
       "      <td>240</td>\n",
       "      <td>50</td>\n",
       "      <td>...</td>\n",
       "      <td>48</td>\n",
       "      <td>53</td>\n",
       "      <td>26</td>\n",
       "      <td>4</td>\n",
       "      <td>6</td>\n",
       "      <td>15</td>\n",
       "      <td>12</td>\n",
       "      <td>126</td>\n",
       "      <td>28</td>\n",
       "      <td>1</td>\n",
       "    </tr>\n",
       "    <tr>\n",
       "      <th>3</th>\n",
       "      <td>22021</td>\n",
       "      <td>1610612741</td>\n",
       "      <td>CHI</td>\n",
       "      <td>Chicago Bulls</td>\n",
       "      <td>22101082</td>\n",
       "      <td>2022-03-22</td>\n",
       "      <td>CHI @ MIL</td>\n",
       "      <td>L</td>\n",
       "      <td>240</td>\n",
       "      <td>39</td>\n",
       "      <td>...</td>\n",
       "      <td>28</td>\n",
       "      <td>33</td>\n",
       "      <td>21</td>\n",
       "      <td>9</td>\n",
       "      <td>4</td>\n",
       "      <td>7</td>\n",
       "      <td>12</td>\n",
       "      <td>98</td>\n",
       "      <td>-28</td>\n",
       "      <td>1</td>\n",
       "    </tr>\n",
       "    <tr>\n",
       "      <th>4</th>\n",
       "      <td>22021</td>\n",
       "      <td>1610612737</td>\n",
       "      <td>ATL</td>\n",
       "      <td>Atlanta Hawks</td>\n",
       "      <td>22101081</td>\n",
       "      <td>2022-03-22</td>\n",
       "      <td>ATL @ NYK</td>\n",
       "      <td>W</td>\n",
       "      <td>240</td>\n",
       "      <td>40</td>\n",
       "      <td>...</td>\n",
       "      <td>33</td>\n",
       "      <td>43</td>\n",
       "      <td>26</td>\n",
       "      <td>7</td>\n",
       "      <td>5</td>\n",
       "      <td>14</td>\n",
       "      <td>18</td>\n",
       "      <td>117</td>\n",
       "      <td>6</td>\n",
       "      <td>1</td>\n",
       "    </tr>\n",
       "  </tbody>\n",
       "</table>\n",
       "<p>5 rows × 29 columns</p>\n",
       "</div>"
      ],
      "text/plain": [
       "   SEASON_ID     TEAM_ID TEAM_ABBREVIATION        TEAM_NAME   GAME_ID  \\\n",
       "0      22021  1610612746               LAC      LA Clippers  22101083   \n",
       "1      22021  1610612743               DEN   Denver Nuggets  22101083   \n",
       "2      22021  1610612749               MIL  Milwaukee Bucks  22101082   \n",
       "3      22021  1610612741               CHI    Chicago Bulls  22101082   \n",
       "4      22021  1610612737               ATL    Atlanta Hawks  22101081   \n",
       "\n",
       "    GAME_DATE      MATCHUP WL  MIN  FGM  ...  DREB  REB  AST  STL  BLK  TOV  \\\n",
       "0  2022-03-22    LAC @ DEN  L  240   42  ...    29   35   27    3    7    6   \n",
       "1  2022-03-22  DEN vs. LAC  W  240   45  ...    34   40   31    4    5   11   \n",
       "2  2022-03-22  MIL vs. CHI  W  240   50  ...    48   53   26    4    6   15   \n",
       "3  2022-03-22    CHI @ MIL  L  240   39  ...    28   33   21    9    4    7   \n",
       "4  2022-03-22    ATL @ NYK  W  240   40  ...    33   43   26    7    5   14   \n",
       "\n",
       "   PF  PTS  PLUS_MINUS  VIDEO_AVAILABLE  \n",
       "0  19  115         -12                1  \n",
       "1  19  127          12                1  \n",
       "2  12  126          28                1  \n",
       "3  12   98         -28                1  \n",
       "4  18  117           6                1  \n",
       "\n",
       "[5 rows x 29 columns]"
      ]
     },
     "execution_count": 2,
     "metadata": {},
     "output_type": "execute_result"
    }
   ],
   "source": [
    "games_df = pd.concat(map\n",
    "                     (pd.read_csv, \n",
    "                          ['data/game_details/nba_game_detailsSeason=2021-22.csv', \n",
    "                           'data/game_details/nba_game_detailsSeason=2020-21.csv', \n",
    "                    ]), ignore_index=True)\n",
    "\n",
    "games_df.head()"
   ]
  },
  {
   "cell_type": "code",
   "execution_count": 3,
   "id": "58e494c1",
   "metadata": {},
   "outputs": [
    {
     "name": "stderr",
     "output_type": "stream",
     "text": [
      "D:\\Anaconda3\\envs\\PythonData\\lib\\site-packages\\ipykernel_launcher.py:29: UserWarning: Boolean Series key will be reindexed to match DataFrame index.\n",
      "D:\\Anaconda3\\envs\\PythonData\\lib\\site-packages\\ipykernel_launcher.py:30: UserWarning: Boolean Series key will be reindexed to match DataFrame index.\n"
     ]
    },
    {
     "data": {
      "text/html": [
       "<div>\n",
       "<style scoped>\n",
       "    .dataframe tbody tr th:only-of-type {\n",
       "        vertical-align: middle;\n",
       "    }\n",
       "\n",
       "    .dataframe tbody tr th {\n",
       "        vertical-align: top;\n",
       "    }\n",
       "\n",
       "    .dataframe thead th {\n",
       "        text-align: right;\n",
       "    }\n",
       "</style>\n",
       "<table border=\"1\" class=\"dataframe\">\n",
       "  <thead>\n",
       "    <tr style=\"text-align: right;\">\n",
       "      <th></th>\n",
       "      <th>FGA_HOME</th>\n",
       "      <th>FGA_AWAY</th>\n",
       "      <th>FG_PCT_HOME</th>\n",
       "      <th>FG_PCT_AWAY</th>\n",
       "      <th>FG3_PCT_HOME</th>\n",
       "      <th>FG3_PCT_AWAY</th>\n",
       "      <th>DREB_HOME</th>\n",
       "      <th>DREB_AWAY</th>\n",
       "      <th>REB_HOME</th>\n",
       "      <th>REB_AWAY</th>\n",
       "      <th>AST_HOME</th>\n",
       "      <th>AST_AWAY</th>\n",
       "      <th>WIN</th>\n",
       "    </tr>\n",
       "  </thead>\n",
       "  <tbody>\n",
       "    <tr>\n",
       "      <th>0</th>\n",
       "      <td>86.40</td>\n",
       "      <td>87.00</td>\n",
       "      <td>0.49</td>\n",
       "      <td>0.47</td>\n",
       "      <td>0.34</td>\n",
       "      <td>0.35</td>\n",
       "      <td>37.20</td>\n",
       "      <td>33.95</td>\n",
       "      <td>46.90</td>\n",
       "      <td>43.6</td>\n",
       "      <td>28.70</td>\n",
       "      <td>25.75</td>\n",
       "      <td>1</td>\n",
       "    </tr>\n",
       "    <tr>\n",
       "      <th>1</th>\n",
       "      <td>87.00</td>\n",
       "      <td>88.00</td>\n",
       "      <td>0.47</td>\n",
       "      <td>0.46</td>\n",
       "      <td>0.35</td>\n",
       "      <td>0.39</td>\n",
       "      <td>33.95</td>\n",
       "      <td>34.75</td>\n",
       "      <td>43.60</td>\n",
       "      <td>44.3</td>\n",
       "      <td>25.75</td>\n",
       "      <td>24.90</td>\n",
       "      <td>1</td>\n",
       "    </tr>\n",
       "    <tr>\n",
       "      <th>2</th>\n",
       "      <td>87.00</td>\n",
       "      <td>87.45</td>\n",
       "      <td>0.47</td>\n",
       "      <td>0.49</td>\n",
       "      <td>0.35</td>\n",
       "      <td>0.36</td>\n",
       "      <td>33.95</td>\n",
       "      <td>33.70</td>\n",
       "      <td>43.60</td>\n",
       "      <td>41.9</td>\n",
       "      <td>25.75</td>\n",
       "      <td>23.40</td>\n",
       "      <td>1</td>\n",
       "    </tr>\n",
       "    <tr>\n",
       "      <th>3</th>\n",
       "      <td>89.85</td>\n",
       "      <td>87.00</td>\n",
       "      <td>0.49</td>\n",
       "      <td>0.47</td>\n",
       "      <td>0.39</td>\n",
       "      <td>0.35</td>\n",
       "      <td>36.05</td>\n",
       "      <td>33.95</td>\n",
       "      <td>46.10</td>\n",
       "      <td>43.6</td>\n",
       "      <td>25.25</td>\n",
       "      <td>25.75</td>\n",
       "      <td>1</td>\n",
       "    </tr>\n",
       "    <tr>\n",
       "      <th>4</th>\n",
       "      <td>88.70</td>\n",
       "      <td>87.00</td>\n",
       "      <td>0.43</td>\n",
       "      <td>0.47</td>\n",
       "      <td>0.35</td>\n",
       "      <td>0.35</td>\n",
       "      <td>35.70</td>\n",
       "      <td>33.95</td>\n",
       "      <td>48.55</td>\n",
       "      <td>43.6</td>\n",
       "      <td>22.15</td>\n",
       "      <td>25.75</td>\n",
       "      <td>0</td>\n",
       "    </tr>\n",
       "  </tbody>\n",
       "</table>\n",
       "</div>"
      ],
      "text/plain": [
       "   FGA_HOME  FGA_AWAY  FG_PCT_HOME  FG_PCT_AWAY  FG3_PCT_HOME  FG3_PCT_AWAY  \\\n",
       "0     86.40     87.00         0.49         0.47          0.34          0.35   \n",
       "1     87.00     88.00         0.47         0.46          0.35          0.39   \n",
       "2     87.00     87.45         0.47         0.49          0.35          0.36   \n",
       "3     89.85     87.00         0.49         0.47          0.39          0.35   \n",
       "4     88.70     87.00         0.43         0.47          0.35          0.35   \n",
       "\n",
       "   DREB_HOME  DREB_AWAY  REB_HOME  REB_AWAY  AST_HOME  AST_AWAY  WIN  \n",
       "0      37.20      33.95     46.90      43.6     28.70     25.75    1  \n",
       "1      33.95      34.75     43.60      44.3     25.75     24.90    1  \n",
       "2      33.95      33.70     43.60      41.9     25.75     23.40    1  \n",
       "3      36.05      33.95     46.10      43.6     25.25     25.75    1  \n",
       "4      35.70      33.95     48.55      43.6     22.15     25.75    0  "
      ]
     },
     "execution_count": 3,
     "metadata": {},
     "output_type": "execute_result"
    }
   ],
   "source": [
    "# Creating rows for dataframe\n",
    "trans_df = pd.DataFrame()\n",
    "y = []\n",
    "for i in range(0,3000):#len(games_df)):\n",
    "    # Check Matchup to see which team is Home\n",
    "    if \"@\" in games_df[\"MATCHUP\"][i]:\n",
    "        away_team = games_df[\"TEAM_ABBREVIATION\"]\n",
    "        home_team = games_df[\"MATCHUP\"][i][-3:]\n",
    "        \n",
    "        #Adding win/loss to home team\n",
    "        if games_df[\"PLUS_MINUS\"][i] > 0:\n",
    "            y.append(0)\n",
    "        else:\n",
    "            y.append(1)\n",
    "         \n",
    "    else:\n",
    "        home_team = games_df[\"TEAM_ABBREVIATION\"]\n",
    "        away_team = games_df[\"MATCHUP\"][i][-3:]\n",
    "        \n",
    "        #Adding win/loss to home team\n",
    "        if games_df[\"PLUS_MINUS\"][i] > 0:\n",
    "            y.append(1)\n",
    "        else:\n",
    "            y.append(0)\n",
    "    # row list for df\n",
    "    row = []\n",
    "    \n",
    "    #Last 10 games df for both teams\n",
    "    last_10h = games_df[games_df[\"TEAM_ABBREVIATION\"] == home_team][games_df[\"GAME_DATE\"]< games_df[\"GAME_DATE\"][i]].head(20)\n",
    "    last_10a = games_df[games_df[\"TEAM_ABBREVIATION\"] == away_team][games_df[\"GAME_DATE\"]< games_df[\"GAME_DATE\"][i]].head(20)\n",
    "\n",
    "    needed_features = [\"FGA\", \"FG_PCT\", \"FG3_PCT\", \"DREB\", \"REB\", \"AST\"]\n",
    "    \n",
    "    for feature in needed_features:\n",
    "        row.append(round((sum(last_10h[feature])/20),2))\n",
    "        row.append(round((sum(last_10a[feature])/20),2))\n",
    "    \n",
    "    trans_df = trans_df.append(pd.DataFrame([row]), ignore_index=True)\n",
    "\n",
    "trans_df=trans_df.set_axis([\"FGA_HOME\",\"FGA_AWAY\", \"FG_PCT_HOME\", \"FG_PCT_AWAY\", \"FG3_PCT_HOME\", \"FG3_PCT_AWAY\", \n",
    "                               \"DREB_HOME\", \"DREB_AWAY\", \"REB_HOME\", \"REB_AWAY\", \"AST_HOME\", \"AST_AWAY\"], axis=1)\n",
    "        \n",
    "trans_df[\"WIN\"] = y\n",
    "\n",
    "trans_df.head()"
   ]
  },
  {
   "cell_type": "code",
   "execution_count": 4,
   "id": "2e45c4c2",
   "metadata": {},
   "outputs": [],
   "source": [
    "columns = [\"HOME_TEAM_ID\", \"VISITOR_TEAM_ID\", \"SEASON\", \"PTS_home\", \"FG_PCT_home\", \"FT_PCT_home\", \"FG3_PCT_home\", \"AST_home\", \"REB_home\", \"PTS_away\", \"FG_PCT_away\", \"FT_PCT_away\", \"FG3_PCT_away\", \"AST_away\", \"REB_away\"]\n",
    "\n",
    "target = [\"HOME_TEAM_WINS\"]"
   ]
  },
  {
   "cell_type": "code",
   "execution_count": 5,
   "id": "084f4a3d",
   "metadata": {},
   "outputs": [
    {
     "data": {
      "text/html": [
       "<div>\n",
       "<style scoped>\n",
       "    .dataframe tbody tr th:only-of-type {\n",
       "        vertical-align: middle;\n",
       "    }\n",
       "\n",
       "    .dataframe tbody tr th {\n",
       "        vertical-align: top;\n",
       "    }\n",
       "\n",
       "    .dataframe thead th {\n",
       "        text-align: right;\n",
       "    }\n",
       "</style>\n",
       "<table border=\"1\" class=\"dataframe\">\n",
       "  <thead>\n",
       "    <tr style=\"text-align: right;\">\n",
       "      <th></th>\n",
       "      <th>FGA_DIFF</th>\n",
       "      <th>FG_PCT_RATIO</th>\n",
       "      <th>FG3_PCT_RATIO</th>\n",
       "      <th>DREB_DIFF</th>\n",
       "      <th>REB_DIFF</th>\n",
       "      <th>AST_DIFF</th>\n",
       "      <th>WIN</th>\n",
       "    </tr>\n",
       "  </thead>\n",
       "  <tbody>\n",
       "    <tr>\n",
       "      <th>0</th>\n",
       "      <td>-0.60</td>\n",
       "      <td>1.042553</td>\n",
       "      <td>0.971429</td>\n",
       "      <td>3.25</td>\n",
       "      <td>3.30</td>\n",
       "      <td>2.95</td>\n",
       "      <td>1</td>\n",
       "    </tr>\n",
       "    <tr>\n",
       "      <th>1</th>\n",
       "      <td>-1.00</td>\n",
       "      <td>1.021739</td>\n",
       "      <td>0.897436</td>\n",
       "      <td>-0.80</td>\n",
       "      <td>-0.70</td>\n",
       "      <td>0.85</td>\n",
       "      <td>1</td>\n",
       "    </tr>\n",
       "    <tr>\n",
       "      <th>2</th>\n",
       "      <td>-0.45</td>\n",
       "      <td>0.959184</td>\n",
       "      <td>0.972222</td>\n",
       "      <td>0.25</td>\n",
       "      <td>1.70</td>\n",
       "      <td>2.35</td>\n",
       "      <td>1</td>\n",
       "    </tr>\n",
       "    <tr>\n",
       "      <th>3</th>\n",
       "      <td>2.85</td>\n",
       "      <td>1.042553</td>\n",
       "      <td>1.114286</td>\n",
       "      <td>2.10</td>\n",
       "      <td>2.50</td>\n",
       "      <td>-0.50</td>\n",
       "      <td>1</td>\n",
       "    </tr>\n",
       "    <tr>\n",
       "      <th>4</th>\n",
       "      <td>1.70</td>\n",
       "      <td>0.914894</td>\n",
       "      <td>1.000000</td>\n",
       "      <td>1.75</td>\n",
       "      <td>4.95</td>\n",
       "      <td>-3.60</td>\n",
       "      <td>0</td>\n",
       "    </tr>\n",
       "  </tbody>\n",
       "</table>\n",
       "</div>"
      ],
      "text/plain": [
       "   FGA_DIFF  FG_PCT_RATIO  FG3_PCT_RATIO  DREB_DIFF  REB_DIFF  AST_DIFF  WIN\n",
       "0     -0.60      1.042553       0.971429       3.25      3.30      2.95    1\n",
       "1     -1.00      1.021739       0.897436      -0.80     -0.70      0.85    1\n",
       "2     -0.45      0.959184       0.972222       0.25      1.70      2.35    1\n",
       "3      2.85      1.042553       1.114286       2.10      2.50     -0.50    1\n",
       "4      1.70      0.914894       1.000000       1.75      4.95     -3.60    0"
      ]
     },
     "execution_count": 5,
     "metadata": {},
     "output_type": "execute_result"
    }
   ],
   "source": [
    "\"\"\"# Load the data from AWS - REVIEW WITH TEAM\n",
    "file_path =\"https://YOUR-BUCKET-NAME.s3.amazonaws.com/INSERTLINK\"\n",
    "df = pd.read_csv(file_path, skiprows=1)[:-2]\n",
    "df = df.loc[:, columns].copy()\n",
    "\n",
    "# Drop the null comumns where all values are null\n",
    "df = df.dropna(axis='columns', how='all')\n",
    "\n",
    "# Drop the null rows\n",
    "df = df.dropna()\n",
    "\n",
    "# Convert the target column values to win/loss based on their values\n",
    "x = {'1': 'Win'}   \n",
    "df = df.replace(x)\n",
    "\n",
    "x = {'0': 'Loss'}   \n",
    "df = df.replace(x)\n",
    "\n",
    "df.reset_index(inplace=True, drop=True)\n",
    "\n",
    "df.head() \"\"\"\n",
    "\n",
    "#create column with FGA difference between teams\n",
    "trans_df[\"FGA_DIFF\"]=trans_df[\"FGA_HOME\"]-trans_df[\"FGA_AWAY\"]\n",
    "trans_df.drop(columns=[\"FGA_HOME\",\"FGA_AWAY\"], inplace=True)\n",
    "trans_df.head()\n",
    "\n",
    "#Create column with FG percent ratio between teams\n",
    "trans_df[\"FG_PCT_RATIO\"]=trans_df[\"FG_PCT_HOME\"]/trans_df[\"FG_PCT_AWAY\"]\n",
    "trans_df.drop(columns=[\"FG_PCT_HOME\", \"FG_PCT_AWAY\"], inplace=True)\n",
    "\n",
    "#Create column with 3-point FG percent ratio between teams\n",
    "trans_df[\"FG3_PCT_RATIO\"] = trans_df[\"FG3_PCT_HOME\"]/trans_df[\"FG3_PCT_AWAY\"]\n",
    "trans_df.drop(columns=[\"FG3_PCT_HOME\", \"FG3_PCT_AWAY\"], inplace = True)\n",
    "\n",
    "#Create column with Defensive rebound difference between teams\n",
    "trans_df[\"DREB_DIFF\"]=trans_df[\"DREB_HOME\"]-trans_df[\"DREB_AWAY\"]\n",
    "trans_df.drop(columns=[\"DREB_HOME\", \"DREB_AWAY\"], inplace =True)\n",
    "\n",
    "#Create column with rebound difference between teams\n",
    "trans_df[\"REB_DIFF\"]=trans_df[\"REB_HOME\"]-trans_df[\"REB_AWAY\"]\n",
    "trans_df.drop(columns=[\"REB_HOME\",\"REB_AWAY\"], inplace=True)\n",
    "\n",
    "#Create column with assist difference between teams\n",
    "trans_df[\"AST_DIFF\"]=trans_df[\"AST_HOME\"]-trans_df[\"AST_AWAY\"]\n",
    "trans_df.drop(columns=[\"AST_HOME\",\"AST_AWAY\"], inplace=True)\n",
    "\n",
    "win=trans_df[\"WIN\"]\n",
    "trans_df.head()\n",
    "\n",
    "win=trans_df[\"WIN\"]\n",
    "trans_df.drop(columns=[\"WIN\"], inplace=True)\n",
    "trans_df[\"WIN\"]=win\n",
    "trans_df.head()"
   ]
  },
  {
   "cell_type": "code",
   "execution_count": 6,
   "id": "5ed5465d",
   "metadata": {},
   "outputs": [],
   "source": [
    "#Creating input and output data\n",
    "trans_df[\"WIN\"] = y\n",
    "y = trans_df[\"WIN\"]\n",
    "X_df = trans_df.drop([\"WIN\"], axis=1)"
   ]
  },
  {
   "cell_type": "code",
   "execution_count": 7,
   "id": "981f88be",
   "metadata": {},
   "outputs": [
    {
     "data": {
      "text/plain": [
       "1    1646\n",
       "0    1354\n",
       "Name: WIN, dtype: int64"
      ]
     },
     "execution_count": 7,
     "metadata": {},
     "output_type": "execute_result"
    }
   ],
   "source": [
    "# Check the balance of our target values\n",
    "y.value_counts()"
   ]
  },
  {
   "cell_type": "code",
   "execution_count": 8,
   "id": "aaf9634e",
   "metadata": {},
   "outputs": [],
   "source": [
    "# Split the dataset\n",
    "X_train, X_test, y_train, y_test = train_test_split(X_df, y, random_state=42, stratify=y)"
   ]
  },
  {
   "cell_type": "code",
   "execution_count": 9,
   "id": "1d0e5d26",
   "metadata": {},
   "outputs": [],
   "source": [
    "# Create a StandardScaler instances\n",
    "scaler = StandardScaler()"
   ]
  },
  {
   "cell_type": "code",
   "execution_count": 10,
   "id": "156c6181",
   "metadata": {},
   "outputs": [],
   "source": [
    "# Fit the StandardScaler\n",
    "X_scaler = scaler.fit(X_train)"
   ]
  },
  {
   "cell_type": "code",
   "execution_count": 11,
   "id": "0d472d0f",
   "metadata": {},
   "outputs": [],
   "source": [
    "# Scale the data\n",
    "X_train_scaled = X_scaler.transform(X_train)\n",
    "X_test_scaled = X_scaler.transform(X_test)"
   ]
  },
  {
   "cell_type": "code",
   "execution_count": 12,
   "id": "56b4a95c",
   "metadata": {},
   "outputs": [
    {
     "data": {
      "text/plain": [
       "LogisticRegression(random_state=42)"
      ]
     },
     "execution_count": 12,
     "metadata": {},
     "output_type": "execute_result"
    }
   ],
   "source": [
    "# Oversampling\n",
    "\n",
    "from imblearn.over_sampling import RandomOverSampler\n",
    "from collections import Counter\n",
    "ros = RandomOverSampler(random_state=42)\n",
    "X_resampled, y_resampled = ros.fit_resample(X_train_scaled, y_train)\n",
    "Counter(y_resampled)\n",
    "\n",
    "from sklearn.linear_model import LogisticRegression\n",
    "model = LogisticRegression(solver='lbfgs', random_state=42)\n",
    "model.fit(X_resampled, y_resampled)"
   ]
  },
  {
   "cell_type": "code",
   "execution_count": 13,
   "id": "0384bd58",
   "metadata": {},
   "outputs": [
    {
     "name": "stderr",
     "output_type": "stream",
     "text": [
      "D:\\Anaconda3\\envs\\PythonData\\lib\\site-packages\\sklearn\\base.py:444: UserWarning: X has feature names, but LogisticRegression was fitted without feature names\n",
      "  f\"X has feature names, but {self.__class__.__name__} was fitted without\"\n"
     ]
    },
    {
     "data": {
      "text/plain": [
       "array([[102, 237],\n",
       "       [103, 308]], dtype=int64)"
      ]
     },
     "execution_count": 13,
     "metadata": {},
     "output_type": "execute_result"
    }
   ],
   "source": [
    "from sklearn.metrics import confusion_matrix\n",
    "y_pred = model.predict(X_test)\n",
    "confusion_matrix(y_test, y_pred)"
   ]
  },
  {
   "cell_type": "code",
   "execution_count": 14,
   "id": "7d3f791b",
   "metadata": {},
   "outputs": [
    {
     "data": {
      "text/plain": [
       "0.5251383416230648"
      ]
     },
     "execution_count": 14,
     "metadata": {},
     "output_type": "execute_result"
    }
   ],
   "source": [
    "from sklearn.metrics import balanced_accuracy_score\n",
    "balanced_accuracy_score(y_test, y_pred)"
   ]
  },
  {
   "cell_type": "code",
   "execution_count": 15,
   "id": "a7f4e25e",
   "metadata": {},
   "outputs": [
    {
     "name": "stdout",
     "output_type": "stream",
     "text": [
      "                   pre       rec       spe        f1       geo       iba       sup\n",
      "\n",
      "          0       0.50      0.30      0.75      0.38      0.47      0.22       339\n",
      "          1       0.57      0.75      0.30      0.64      0.47      0.24       411\n",
      "\n",
      "avg / total       0.53      0.55      0.50      0.52      0.47      0.23       750\n",
      "\n"
     ]
    }
   ],
   "source": [
    "from imblearn.metrics import classification_report_imbalanced\n",
    "print(classification_report_imbalanced(y_test, y_pred))\n"
   ]
  },
  {
   "cell_type": "code",
   "execution_count": 16,
   "id": "6314f049",
   "metadata": {},
   "outputs": [
    {
     "name": "stderr",
     "output_type": "stream",
     "text": [
      "D:\\Anaconda3\\envs\\PythonData\\lib\\site-packages\\sklearn\\base.py:444: UserWarning: X has feature names, but LogisticRegression was fitted without feature names\n",
      "  f\"X has feature names, but {self.__class__.__name__} was fitted without\"\n"
     ]
    },
    {
     "data": {
      "text/plain": [
       "0.5131559115474883"
      ]
     },
     "execution_count": 16,
     "metadata": {},
     "output_type": "execute_result"
    }
   ],
   "source": [
    "# SMOTEEN\n",
    "\n",
    "from imblearn.over_sampling import SMOTE\n",
    "X_resampled1, y_resampled1 = SMOTE(random_state=42,\n",
    "sampling_strategy='auto').fit_resample(\n",
    "   X_train_scaled, y_train)\n",
    "\n",
    "Counter(y_resampled1)\n",
    "\n",
    "model = LogisticRegression(solver='lbfgs', random_state=42)\n",
    "model.fit(X_resampled1, y_resampled1)\n",
    "\n",
    "y_pred = model.predict(X_test)\n",
    "balanced_accuracy_score(y_test, y_pred)"
   ]
  },
  {
   "cell_type": "code",
   "execution_count": 17,
   "id": "c33a48bd",
   "metadata": {},
   "outputs": [
    {
     "data": {
      "text/plain": [
       "array([[ 98, 241],\n",
       "       [108, 303]], dtype=int64)"
      ]
     },
     "execution_count": 17,
     "metadata": {},
     "output_type": "execute_result"
    }
   ],
   "source": [
    "confusion_matrix(y_test, y_pred)"
   ]
  },
  {
   "cell_type": "code",
   "execution_count": 18,
   "id": "986f70a3",
   "metadata": {},
   "outputs": [
    {
     "name": "stdout",
     "output_type": "stream",
     "text": [
      "                   pre       rec       spe        f1       geo       iba       sup\n",
      "\n",
      "          0       0.48      0.29      0.74      0.36      0.46      0.20       339\n",
      "          1       0.56      0.74      0.29      0.63      0.46      0.22       411\n",
      "\n",
      "avg / total       0.52      0.53      0.49      0.51      0.46      0.21       750\n",
      "\n"
     ]
    }
   ],
   "source": [
    "print(classification_report_imbalanced(y_test, y_pred))"
   ]
  },
  {
   "cell_type": "code",
   "execution_count": 19,
   "id": "74e0e450",
   "metadata": {},
   "outputs": [
    {
     "ename": "SyntaxError",
     "evalue": "EOF while scanning triple-quoted string literal (Temp/ipykernel_35504/3170895798.py, line 14)",
     "output_type": "error",
     "traceback": [
      "\u001b[1;36m  File \u001b[1;32m\"C:\\Users\\Francis\\AppData\\Local\\Temp/ipykernel_35504/3170895798.py\"\u001b[1;36m, line \u001b[1;32m14\u001b[0m\n\u001b[1;33m    confusion_matrix(y_test, y_pred)\u001b[0m\n\u001b[1;37m                                    \n^\u001b[0m\n\u001b[1;31mSyntaxError\u001b[0m\u001b[1;31m:\u001b[0m EOF while scanning triple-quoted string literal\n"
     ]
    }
   ],
   "source": [
    "\"\"\"\n",
    "# Undersampling\n",
    "\n",
    "from imblearn.under_sampling import RandomUnderSampler\n",
    "ros = RandomUnderSampler(random_state=1)\n",
    "X_resampled2, y_resampled2 = ros.fit_resample(X_train_scaled, y_train)\n",
    "Counter(y_resampled)\n",
    "\n",
    "model = LogisticRegression(solver='lbfgs', random_state=42, max_iter=250,n_jobs=250)\n",
    "model.fit(X_resampled2, y_resampled2)\n",
    "\n",
    "from sklearn.metrics import confusion_matrix\n",
    "y_pred = model.predict(X_test_scaled)\n",
    "confusion_matrix(y_test, y_pred)\n"
   ]
  },
  {
   "cell_type": "code",
   "execution_count": null,
   "id": "857c261c",
   "metadata": {},
   "outputs": [],
   "source": [
    "\"\"\"\n",
    "from sklearn.metrics import balanced_accuracy_score\n",
    "balanced_accuracy_score(y_test, y_pred)"
   ]
  },
  {
   "cell_type": "code",
   "execution_count": null,
   "id": "e19621fd",
   "metadata": {},
   "outputs": [],
   "source": [
    "\"\"\"\n",
    "from imblearn.metrics import classification_report_imbalanced\n",
    "print(classification_report_imbalanced(y_test, y_pred))"
   ]
  },
  {
   "cell_type": "code",
   "execution_count": 21,
   "id": "08e047dc",
   "metadata": {},
   "outputs": [
    {
     "data": {
      "text/html": [
       "<div>\n",
       "<style scoped>\n",
       "    .dataframe tbody tr th:only-of-type {\n",
       "        vertical-align: middle;\n",
       "    }\n",
       "\n",
       "    .dataframe tbody tr th {\n",
       "        vertical-align: top;\n",
       "    }\n",
       "\n",
       "    .dataframe thead th {\n",
       "        text-align: right;\n",
       "    }\n",
       "</style>\n",
       "<table border=\"1\" class=\"dataframe\">\n",
       "  <thead>\n",
       "    <tr style=\"text-align: right;\">\n",
       "      <th></th>\n",
       "      <th>Predicted 0</th>\n",
       "      <th>Predicted 1</th>\n",
       "    </tr>\n",
       "  </thead>\n",
       "  <tbody>\n",
       "    <tr>\n",
       "      <th>Actual 0</th>\n",
       "      <td>142</td>\n",
       "      <td>197</td>\n",
       "    </tr>\n",
       "    <tr>\n",
       "      <th>Actual 1</th>\n",
       "      <td>192</td>\n",
       "      <td>219</td>\n",
       "    </tr>\n",
       "  </tbody>\n",
       "</table>\n",
       "</div>"
      ],
      "text/plain": [
       "          Predicted 0  Predicted 1\n",
       "Actual 0          142          197\n",
       "Actual 1          192          219"
      ]
     },
     "execution_count": 21,
     "metadata": {},
     "output_type": "execute_result"
    }
   ],
   "source": [
    "# Decision Tree Model\n",
    "## thought to give it a try because it is a binary outcome, win or loss = 1 or 0. \n",
    "\n",
    "# Import Dependencies\n",
    "from sklearn import tree\n",
    "from sklearn.metrics import confusion_matrix, accuracy_score, classification_report\n",
    "# Creating the decision tree classifier instance.\n",
    "model = tree.DecisionTreeClassifier()\n",
    "# Fitting the model.\n",
    "model = model.fit(X_train_scaled, y_train)\n",
    "\n",
    "# Making predictions using the testing data.\n",
    "predictions = model.predict(X_test_scaled)\n",
    "\n",
    "# Calculating the confusion matrix\n",
    "cm = confusion_matrix(y_test, predictions)\n",
    "\n",
    "# Create a DataFrame from the confusion matrix.\n",
    "cm_df = pd.DataFrame(\n",
    "    cm, index=[\"Actual 0\", \"Actual 1\"], columns=[\"Predicted 0\", \"Predicted 1\"])\n",
    "\n",
    "cm_df"
   ]
  },
  {
   "cell_type": "code",
   "execution_count": 22,
   "id": "7cd54ab3",
   "metadata": {},
   "outputs": [],
   "source": [
    "# Calculating the accuracy score.\n",
    "acc_score = accuracy_score(y_test, predictions)"
   ]
  },
  {
   "cell_type": "code",
   "execution_count": 23,
   "id": "9579aa34",
   "metadata": {},
   "outputs": [
    {
     "name": "stdout",
     "output_type": "stream",
     "text": [
      "Confusion Matrix\n"
     ]
    },
    {
     "data": {
      "text/html": [
       "<div>\n",
       "<style scoped>\n",
       "    .dataframe tbody tr th:only-of-type {\n",
       "        vertical-align: middle;\n",
       "    }\n",
       "\n",
       "    .dataframe tbody tr th {\n",
       "        vertical-align: top;\n",
       "    }\n",
       "\n",
       "    .dataframe thead th {\n",
       "        text-align: right;\n",
       "    }\n",
       "</style>\n",
       "<table border=\"1\" class=\"dataframe\">\n",
       "  <thead>\n",
       "    <tr style=\"text-align: right;\">\n",
       "      <th></th>\n",
       "      <th>Predicted 0</th>\n",
       "      <th>Predicted 1</th>\n",
       "    </tr>\n",
       "  </thead>\n",
       "  <tbody>\n",
       "    <tr>\n",
       "      <th>Actual 0</th>\n",
       "      <td>142</td>\n",
       "      <td>197</td>\n",
       "    </tr>\n",
       "    <tr>\n",
       "      <th>Actual 1</th>\n",
       "      <td>192</td>\n",
       "      <td>219</td>\n",
       "    </tr>\n",
       "  </tbody>\n",
       "</table>\n",
       "</div>"
      ],
      "text/plain": [
       "          Predicted 0  Predicted 1\n",
       "Actual 0          142          197\n",
       "Actual 1          192          219"
      ]
     },
     "metadata": {},
     "output_type": "display_data"
    },
    {
     "name": "stdout",
     "output_type": "stream",
     "text": [
      "Accuracy Score : 0.48133333333333334\n",
      "Classification Report\n",
      "              precision    recall  f1-score   support\n",
      "\n",
      "           0       0.43      0.42      0.42       339\n",
      "           1       0.53      0.53      0.53       411\n",
      "\n",
      "    accuracy                           0.48       750\n",
      "   macro avg       0.48      0.48      0.48       750\n",
      "weighted avg       0.48      0.48      0.48       750\n",
      "\n"
     ]
    }
   ],
   "source": [
    "# Displaying results\n",
    "print(\"Confusion Matrix\")\n",
    "display(cm_df)\n",
    "print(f\"Accuracy Score : {acc_score}\")\n",
    "print(\"Classification Report\")\n",
    "print(classification_report(y_test, predictions))"
   ]
  },
  {
   "cell_type": "code",
   "execution_count": null,
   "id": "85a62ace",
   "metadata": {},
   "outputs": [],
   "source": []
  }
 ],
 "metadata": {
  "kernelspec": {
   "display_name": "PythonData",
   "language": "python",
   "name": "pythondata"
  },
  "language_info": {
   "codemirror_mode": {
    "name": "ipython",
    "version": 3
   },
   "file_extension": ".py",
   "mimetype": "text/x-python",
   "name": "python",
   "nbconvert_exporter": "python",
   "pygments_lexer": "ipython3",
   "version": "3.7.11"
  }
 },
 "nbformat": 4,
 "nbformat_minor": 5
}
