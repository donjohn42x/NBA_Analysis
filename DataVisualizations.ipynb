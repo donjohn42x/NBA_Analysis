{
 "cells": [
  {
   "cell_type": "code",
   "execution_count": 1,
   "id": "791587c4",
   "metadata": {},
   "outputs": [],
   "source": [
    "import pandas as pd\n",
    "import matplotlib.pyplot as plt\n",
    "import seaborn as sns\n",
    "import plotly.express as px\n",
    "import numpy as np"
   ]
  },
  {
   "cell_type": "code",
   "execution_count": 2,
   "id": "e8c551d5",
   "metadata": {},
   "outputs": [],
   "source": [
    "df = pd.read_csv('nba_game_details_cleaned.csv')"
   ]
  },
  {
   "cell_type": "code",
   "execution_count": 3,
   "id": "3b7f0421",
   "metadata": {},
   "outputs": [],
   "source": [
    "df['YEAR'] = pd.to_datetime(df['GAME_DATE']).dt.year"
   ]
  },
  {
   "cell_type": "code",
   "execution_count": 4,
   "id": "a2f7b46a",
   "metadata": {},
   "outputs": [],
   "source": [
    "df['GAME_DATE'] = pd.to_datetime(df['GAME_DATE'])"
   ]
  },
  {
   "cell_type": "code",
   "execution_count": 5,
   "id": "51cdfa8f",
   "metadata": {},
   "outputs": [],
   "source": [
    "df = df.sort_values(by='GAME_DATE')"
   ]
  },
  {
   "cell_type": "code",
   "execution_count": 6,
   "id": "1544b2c9",
   "metadata": {
    "scrolled": true
   },
   "outputs": [
    {
     "data": {
      "text/html": [
       "<div>\n",
       "<style scoped>\n",
       "    .dataframe tbody tr th:only-of-type {\n",
       "        vertical-align: middle;\n",
       "    }\n",
       "\n",
       "    .dataframe tbody tr th {\n",
       "        vertical-align: top;\n",
       "    }\n",
       "\n",
       "    .dataframe thead th {\n",
       "        text-align: right;\n",
       "    }\n",
       "</style>\n",
       "<table border=\"1\" class=\"dataframe\">\n",
       "  <thead>\n",
       "    <tr style=\"text-align: right;\">\n",
       "      <th></th>\n",
       "      <th>GAME_ID</th>\n",
       "      <th>GAME_DATE</th>\n",
       "      <th>TEAM_away</th>\n",
       "      <th>TEAM_home</th>\n",
       "      <th>TEAM_ID_away</th>\n",
       "      <th>TEAM_ID_home</th>\n",
       "      <th>FGM_away</th>\n",
       "      <th>FGM_home</th>\n",
       "      <th>FGA_away</th>\n",
       "      <th>FGA_home</th>\n",
       "      <th>...</th>\n",
       "      <th>BLK_away</th>\n",
       "      <th>BLK_home</th>\n",
       "      <th>TOV_away</th>\n",
       "      <th>TOV_home</th>\n",
       "      <th>PF_away</th>\n",
       "      <th>PF_home</th>\n",
       "      <th>PTS_away</th>\n",
       "      <th>PTS_home</th>\n",
       "      <th>WIN_home</th>\n",
       "      <th>YEAR</th>\n",
       "    </tr>\n",
       "  </thead>\n",
       "  <tbody>\n",
       "    <tr>\n",
       "      <th>1228</th>\n",
       "      <td>21200003</td>\n",
       "      <td>2012-10-30</td>\n",
       "      <td>DAL</td>\n",
       "      <td>LAL</td>\n",
       "      <td>1610612742</td>\n",
       "      <td>1610612747</td>\n",
       "      <td>40</td>\n",
       "      <td>38</td>\n",
       "      <td>85</td>\n",
       "      <td>77</td>\n",
       "      <td>...</td>\n",
       "      <td>5</td>\n",
       "      <td>5</td>\n",
       "      <td>12</td>\n",
       "      <td>14</td>\n",
       "      <td>25</td>\n",
       "      <td>21</td>\n",
       "      <td>99</td>\n",
       "      <td>91</td>\n",
       "      <td>0</td>\n",
       "      <td>2012</td>\n",
       "    </tr>\n",
       "    <tr>\n",
       "      <th>1227</th>\n",
       "      <td>21200001</td>\n",
       "      <td>2012-10-30</td>\n",
       "      <td>WAS</td>\n",
       "      <td>CLE</td>\n",
       "      <td>1610612764</td>\n",
       "      <td>1610612739</td>\n",
       "      <td>32</td>\n",
       "      <td>36</td>\n",
       "      <td>90</td>\n",
       "      <td>79</td>\n",
       "      <td>...</td>\n",
       "      <td>10</td>\n",
       "      <td>5</td>\n",
       "      <td>13</td>\n",
       "      <td>21</td>\n",
       "      <td>19</td>\n",
       "      <td>21</td>\n",
       "      <td>84</td>\n",
       "      <td>94</td>\n",
       "      <td>1</td>\n",
       "      <td>2012</td>\n",
       "    </tr>\n",
       "    <tr>\n",
       "      <th>1226</th>\n",
       "      <td>21200002</td>\n",
       "      <td>2012-10-30</td>\n",
       "      <td>BOS</td>\n",
       "      <td>MIA</td>\n",
       "      <td>1610612738</td>\n",
       "      <td>1610612748</td>\n",
       "      <td>39</td>\n",
       "      <td>43</td>\n",
       "      <td>75</td>\n",
       "      <td>79</td>\n",
       "      <td>...</td>\n",
       "      <td>2</td>\n",
       "      <td>5</td>\n",
       "      <td>16</td>\n",
       "      <td>8</td>\n",
       "      <td>23</td>\n",
       "      <td>20</td>\n",
       "      <td>107</td>\n",
       "      <td>120</td>\n",
       "      <td>1</td>\n",
       "      <td>2012</td>\n",
       "    </tr>\n",
       "    <tr>\n",
       "      <th>1220</th>\n",
       "      <td>21200012</td>\n",
       "      <td>2012-10-31</td>\n",
       "      <td>LAL</td>\n",
       "      <td>POR</td>\n",
       "      <td>1610612747</td>\n",
       "      <td>1610612757</td>\n",
       "      <td>36</td>\n",
       "      <td>42</td>\n",
       "      <td>72</td>\n",
       "      <td>83</td>\n",
       "      <td>...</td>\n",
       "      <td>2</td>\n",
       "      <td>5</td>\n",
       "      <td>25</td>\n",
       "      <td>12</td>\n",
       "      <td>29</td>\n",
       "      <td>20</td>\n",
       "      <td>106</td>\n",
       "      <td>116</td>\n",
       "      <td>1</td>\n",
       "      <td>2012</td>\n",
       "    </tr>\n",
       "    <tr>\n",
       "      <th>1225</th>\n",
       "      <td>21200005</td>\n",
       "      <td>2012-10-31</td>\n",
       "      <td>DEN</td>\n",
       "      <td>PHI</td>\n",
       "      <td>1610612743</td>\n",
       "      <td>1610612755</td>\n",
       "      <td>33</td>\n",
       "      <td>30</td>\n",
       "      <td>88</td>\n",
       "      <td>85</td>\n",
       "      <td>...</td>\n",
       "      <td>5</td>\n",
       "      <td>11</td>\n",
       "      <td>22</td>\n",
       "      <td>16</td>\n",
       "      <td>22</td>\n",
       "      <td>14</td>\n",
       "      <td>75</td>\n",
       "      <td>84</td>\n",
       "      <td>1</td>\n",
       "      <td>2012</td>\n",
       "    </tr>\n",
       "  </tbody>\n",
       "</table>\n",
       "<p>5 rows × 40 columns</p>\n",
       "</div>"
      ],
      "text/plain": [
       "       GAME_ID  GAME_DATE TEAM_away TEAM_home  TEAM_ID_away  TEAM_ID_home  \\\n",
       "1228  21200003 2012-10-30       DAL       LAL    1610612742    1610612747   \n",
       "1227  21200001 2012-10-30       WAS       CLE    1610612764    1610612739   \n",
       "1226  21200002 2012-10-30       BOS       MIA    1610612738    1610612748   \n",
       "1220  21200012 2012-10-31       LAL       POR    1610612747    1610612757   \n",
       "1225  21200005 2012-10-31       DEN       PHI    1610612743    1610612755   \n",
       "\n",
       "      FGM_away  FGM_home  FGA_away  FGA_home  ...  BLK_away  BLK_home  \\\n",
       "1228        40        38        85        77  ...         5         5   \n",
       "1227        32        36        90        79  ...        10         5   \n",
       "1226        39        43        75        79  ...         2         5   \n",
       "1220        36        42        72        83  ...         2         5   \n",
       "1225        33        30        88        85  ...         5        11   \n",
       "\n",
       "      TOV_away  TOV_home  PF_away  PF_home  PTS_away  PTS_home  WIN_home  YEAR  \n",
       "1228        12        14       25       21        99        91         0  2012  \n",
       "1227        13        21       19       21        84        94         1  2012  \n",
       "1226        16         8       23       20       107       120         1  2012  \n",
       "1220        25        12       29       20       106       116         1  2012  \n",
       "1225        22        16       22       14        75        84         1  2012  \n",
       "\n",
       "[5 rows x 40 columns]"
      ]
     },
     "execution_count": 6,
     "metadata": {},
     "output_type": "execute_result"
    }
   ],
   "source": [
    "df.head()"
   ]
  },
  {
   "cell_type": "code",
   "execution_count": null,
   "id": "7b234fee",
   "metadata": {},
   "outputs": [],
   "source": [
    "df = df.set_index('GAME_DATE')"
   ]
  },
  {
   "cell_type": "code",
   "execution_count": null,
   "id": "17c57b70",
   "metadata": {},
   "outputs": [],
   "source": [
    "df"
   ]
  },
  {
   "cell_type": "code",
   "execution_count": null,
   "id": "e91fb89d",
   "metadata": {
    "scrolled": false
   },
   "outputs": [],
   "source": [
    "df.columns"
   ]
  },
  {
   "cell_type": "code",
   "execution_count": 7,
   "id": "11eb806a",
   "metadata": {},
   "outputs": [],
   "source": [
    "# Create calculated columns for three-point attempts and makes\n",
    "df['3PA_away'] = (df['PTS_away'] - df['FTM_away'] - 2*(df['FGM_away']))/(df['FG3_PCT_away'])\n",
    "df['3PA_away'] = df['3PA_away'].round(0)\n",
    "\n",
    "df['3PA_home'] = (df['PTS_home'] - df['FTM_home'] - 2*(df['FGM_home']))/(df['FG3_PCT_home'])\n",
    "df['3PA_home'] = df['3PA_home'].round(0)\n",
    "\n",
    "df['3PM_away'] = df['PTS_away'] - df['FTM_away'] - 2*df['FGM_away']\n",
    "df['3PM_home'] = df['PTS_home'] - df['FTM_home'] - 2*df['FGM_home']\n",
    "                                                      "
   ]
  },
  {
   "cell_type": "code",
   "execution_count": null,
   "id": "ef11dba9",
   "metadata": {},
   "outputs": [],
   "source": [
    "df['3P_ratio_away'] = df['3PA_away'] / df['FGA_away']\n",
    "\n",
    "df['3P_ratio_home'] = df['3PA_home'] / df['FGA_home']"
   ]
  },
  {
   "cell_type": "code",
   "execution_count": 8,
   "id": "91f1708f",
   "metadata": {},
   "outputs": [],
   "source": [
    "# Merge Hornets/Pelicans history\n",
    "df['TEAM_home'] = np.where(df['TEAM_home'] == 'NOH', 'NOP', df['TEAM_home'])"
   ]
  },
  {
   "cell_type": "code",
   "execution_count": null,
   "id": "6a4fe999",
   "metadata": {
    "scrolled": false
   },
   "outputs": [],
   "source": [
    "df.head()"
   ]
  },
  {
   "cell_type": "code",
   "execution_count": 9,
   "id": "0469a924",
   "metadata": {
    "scrolled": false
   },
   "outputs": [],
   "source": [
    "threes_df = df.groupby(['TEAM_home', 'YEAR'], as_index=False).mean()\n",
    "# threes_df['WIN_away'] = threes_df(1 - threes_df['WIN_home'])\n",
    "threes_df_plotly = threes_df[['TEAM_home', 'YEAR', 'FG3_PCT_home', 'WIN_home', '3PA_home']]\n",
    "# threes_df_plotly.reset_index(drop=True, inplace=True)\n",
    "# threes_df_plotly.index.name = \"TEAM_YEAR\""
   ]
  },
  {
   "cell_type": "code",
   "execution_count": 10,
   "id": "6b5a6b96",
   "metadata": {},
   "outputs": [],
   "source": [
    "js = threes_df_plotly.to_json('threes.json')\n",
    "js"
   ]
  },
  {
   "cell_type": "code",
   "execution_count": 16,
   "id": "e25ba1d1",
   "metadata": {},
   "outputs": [
    {
     "data": {
      "application/vnd.plotly.v1+json": {
       "config": {
        "plotlyServerURL": "https://plot.ly"
       },
       "data": [
        {
         "hovertemplate": "<b>%{hovertext}</b><br><br>Three-Point Attempts Per Game=%{x}<br>Win Rate=%{y}<br>TEAM_home=%{text}<br>Three-Point Pct%=%{marker.color}<extra></extra>",
         "hovertext": [
          "ATL",
          "BKN",
          "BOS",
          "CHA",
          "CHI",
          "CLE",
          "DAL",
          "DEN",
          "DET",
          "GSW",
          "HOU",
          "IND",
          "LAC",
          "LAL",
          "MEM",
          "MIA",
          "MIL",
          "MIN",
          "NOP",
          "NYK",
          "OKC",
          "ORL",
          "PHI",
          "PHX",
          "POR",
          "SAC",
          "SAS",
          "TOR",
          "UTA",
          "WAS"
         ],
         "legendgroup": "",
         "marker": {
          "color": [
           0.37676923076923075,
           0.3653,
           0.36613999999999997,
           0.37759574468085105,
           0.37142857142857144,
           0.3643529411764706,
           0.3486078431372549,
           0.367063829787234,
           0.33938,
           0.3860363636363636,
           0.3362941176470588,
           0.3424615384615385,
           0.39956363636363634,
           0.3420377358490566,
           0.3524181818181818,
           0.3699591836734694,
           0.38445098039215686,
           0.34507272727272725,
           0.35474509803921567,
           0.37948076923076923,
           0.3374313725490196,
           0.3461224489795919,
           0.378875,
           0.3824444444444445,
           0.3710185185185185,
           0.3658703703703704,
           0.35827450980392156,
           0.35092307692307695,
           0.3869259259259259,
           0.3438260869565218
          ],
          "coloraxis": "coloraxis",
          "symbol": "circle"
         },
         "mode": "markers+text",
         "name": "",
         "orientation": "v",
         "showlegend": false,
         "text": [
          "ATL",
          "BKN",
          "BOS",
          "CHA",
          "CHI",
          "CLE",
          "DAL",
          "DEN",
          "DET",
          "GSW",
          "HOU",
          "IND",
          "LAC",
          "LAL",
          "MEM",
          "MIA",
          "MIL",
          "MIN",
          "NOP",
          "NYK",
          "OKC",
          "ORL",
          "PHI",
          "PHX",
          "POR",
          "SAC",
          "SAS",
          "TOR",
          "UTA",
          "WAS"
         ],
         "textposition": "top center",
         "type": "scatter",
         "x": [
          32.67307692307692,
          34.02,
          36.58,
          37.255319148936174,
          32.91836734693877,
          32.27450980392157,
          38.64705882352941,
          35.808510638297875,
          32.94,
          39.25454545454546,
          39.568627450980394,
          34.53846153846154,
          34.56363636363636,
          31.71698113207547,
          32.25454545454546,
          35.51020408163265,
          38.745098039215684,
          39.10909090909091,
          30.784313725490197,
          33.48076923076923,
          34.705882352941174,
          33.87755102040816,
          32.166666666666664,
          33.666666666666664,
          40.98148148148148,
          33.31481481481482,
          28.84313725490196,
          37.28846153846154,
          42.888888888888886,
          29.76086956521739
         ],
         "xaxis": "x",
         "y": [
          0.6153846153846154,
          0.72,
          0.58,
          0.5531914893617021,
          0.5510204081632653,
          0.4117647058823529,
          0.5686274509803921,
          0.6808510638297872,
          0.32,
          0.7454545454545455,
          0.29411764705882354,
          0.40384615384615385,
          0.6545454545454545,
          0.5660377358490566,
          0.5636363636363636,
          0.6326530612244898,
          0.7058823529411765,
          0.4,
          0.47058823529411764,
          0.5961538461538461,
          0.35294117647058826,
          0.24489795918367346,
          0.6875,
          0.7592592592592593,
          0.5555555555555556,
          0.42592592592592593,
          0.39215686274509803,
          0.4423076923076923,
          0.8333333333333334,
          0.6086956521739131
         ],
         "yaxis": "y"
        }
       ],
       "layout": {
        "coloraxis": {
         "colorbar": {
          "title": {
           "text": "Three-Point Pct%"
          }
         },
         "colorscale": [
          [
           0,
           "#0d0887"
          ],
          [
           0.1111111111111111,
           "#46039f"
          ],
          [
           0.2222222222222222,
           "#7201a8"
          ],
          [
           0.3333333333333333,
           "#9c179e"
          ],
          [
           0.4444444444444444,
           "#bd3786"
          ],
          [
           0.5555555555555556,
           "#d8576b"
          ],
          [
           0.6666666666666666,
           "#ed7953"
          ],
          [
           0.7777777777777778,
           "#fb9f3a"
          ],
          [
           0.8888888888888888,
           "#fdca26"
          ],
          [
           1,
           "#f0f921"
          ]
         ]
        },
        "legend": {
         "tracegroupgap": 0
        },
        "template": {
         "data": {
          "bar": [
           {
            "error_x": {
             "color": "#2a3f5f"
            },
            "error_y": {
             "color": "#2a3f5f"
            },
            "marker": {
             "line": {
              "color": "#E5ECF6",
              "width": 0.5
             },
             "pattern": {
              "fillmode": "overlay",
              "size": 10,
              "solidity": 0.2
             }
            },
            "type": "bar"
           }
          ],
          "barpolar": [
           {
            "marker": {
             "line": {
              "color": "#E5ECF6",
              "width": 0.5
             },
             "pattern": {
              "fillmode": "overlay",
              "size": 10,
              "solidity": 0.2
             }
            },
            "type": "barpolar"
           }
          ],
          "carpet": [
           {
            "aaxis": {
             "endlinecolor": "#2a3f5f",
             "gridcolor": "white",
             "linecolor": "white",
             "minorgridcolor": "white",
             "startlinecolor": "#2a3f5f"
            },
            "baxis": {
             "endlinecolor": "#2a3f5f",
             "gridcolor": "white",
             "linecolor": "white",
             "minorgridcolor": "white",
             "startlinecolor": "#2a3f5f"
            },
            "type": "carpet"
           }
          ],
          "choropleth": [
           {
            "colorbar": {
             "outlinewidth": 0,
             "ticks": ""
            },
            "type": "choropleth"
           }
          ],
          "contour": [
           {
            "colorbar": {
             "outlinewidth": 0,
             "ticks": ""
            },
            "colorscale": [
             [
              0,
              "#0d0887"
             ],
             [
              0.1111111111111111,
              "#46039f"
             ],
             [
              0.2222222222222222,
              "#7201a8"
             ],
             [
              0.3333333333333333,
              "#9c179e"
             ],
             [
              0.4444444444444444,
              "#bd3786"
             ],
             [
              0.5555555555555556,
              "#d8576b"
             ],
             [
              0.6666666666666666,
              "#ed7953"
             ],
             [
              0.7777777777777778,
              "#fb9f3a"
             ],
             [
              0.8888888888888888,
              "#fdca26"
             ],
             [
              1,
              "#f0f921"
             ]
            ],
            "type": "contour"
           }
          ],
          "contourcarpet": [
           {
            "colorbar": {
             "outlinewidth": 0,
             "ticks": ""
            },
            "type": "contourcarpet"
           }
          ],
          "heatmap": [
           {
            "colorbar": {
             "outlinewidth": 0,
             "ticks": ""
            },
            "colorscale": [
             [
              0,
              "#0d0887"
             ],
             [
              0.1111111111111111,
              "#46039f"
             ],
             [
              0.2222222222222222,
              "#7201a8"
             ],
             [
              0.3333333333333333,
              "#9c179e"
             ],
             [
              0.4444444444444444,
              "#bd3786"
             ],
             [
              0.5555555555555556,
              "#d8576b"
             ],
             [
              0.6666666666666666,
              "#ed7953"
             ],
             [
              0.7777777777777778,
              "#fb9f3a"
             ],
             [
              0.8888888888888888,
              "#fdca26"
             ],
             [
              1,
              "#f0f921"
             ]
            ],
            "type": "heatmap"
           }
          ],
          "heatmapgl": [
           {
            "colorbar": {
             "outlinewidth": 0,
             "ticks": ""
            },
            "colorscale": [
             [
              0,
              "#0d0887"
             ],
             [
              0.1111111111111111,
              "#46039f"
             ],
             [
              0.2222222222222222,
              "#7201a8"
             ],
             [
              0.3333333333333333,
              "#9c179e"
             ],
             [
              0.4444444444444444,
              "#bd3786"
             ],
             [
              0.5555555555555556,
              "#d8576b"
             ],
             [
              0.6666666666666666,
              "#ed7953"
             ],
             [
              0.7777777777777778,
              "#fb9f3a"
             ],
             [
              0.8888888888888888,
              "#fdca26"
             ],
             [
              1,
              "#f0f921"
             ]
            ],
            "type": "heatmapgl"
           }
          ],
          "histogram": [
           {
            "marker": {
             "pattern": {
              "fillmode": "overlay",
              "size": 10,
              "solidity": 0.2
             }
            },
            "type": "histogram"
           }
          ],
          "histogram2d": [
           {
            "colorbar": {
             "outlinewidth": 0,
             "ticks": ""
            },
            "colorscale": [
             [
              0,
              "#0d0887"
             ],
             [
              0.1111111111111111,
              "#46039f"
             ],
             [
              0.2222222222222222,
              "#7201a8"
             ],
             [
              0.3333333333333333,
              "#9c179e"
             ],
             [
              0.4444444444444444,
              "#bd3786"
             ],
             [
              0.5555555555555556,
              "#d8576b"
             ],
             [
              0.6666666666666666,
              "#ed7953"
             ],
             [
              0.7777777777777778,
              "#fb9f3a"
             ],
             [
              0.8888888888888888,
              "#fdca26"
             ],
             [
              1,
              "#f0f921"
             ]
            ],
            "type": "histogram2d"
           }
          ],
          "histogram2dcontour": [
           {
            "colorbar": {
             "outlinewidth": 0,
             "ticks": ""
            },
            "colorscale": [
             [
              0,
              "#0d0887"
             ],
             [
              0.1111111111111111,
              "#46039f"
             ],
             [
              0.2222222222222222,
              "#7201a8"
             ],
             [
              0.3333333333333333,
              "#9c179e"
             ],
             [
              0.4444444444444444,
              "#bd3786"
             ],
             [
              0.5555555555555556,
              "#d8576b"
             ],
             [
              0.6666666666666666,
              "#ed7953"
             ],
             [
              0.7777777777777778,
              "#fb9f3a"
             ],
             [
              0.8888888888888888,
              "#fdca26"
             ],
             [
              1,
              "#f0f921"
             ]
            ],
            "type": "histogram2dcontour"
           }
          ],
          "mesh3d": [
           {
            "colorbar": {
             "outlinewidth": 0,
             "ticks": ""
            },
            "type": "mesh3d"
           }
          ],
          "parcoords": [
           {
            "line": {
             "colorbar": {
              "outlinewidth": 0,
              "ticks": ""
             }
            },
            "type": "parcoords"
           }
          ],
          "pie": [
           {
            "automargin": true,
            "type": "pie"
           }
          ],
          "scatter": [
           {
            "marker": {
             "colorbar": {
              "outlinewidth": 0,
              "ticks": ""
             }
            },
            "type": "scatter"
           }
          ],
          "scatter3d": [
           {
            "line": {
             "colorbar": {
              "outlinewidth": 0,
              "ticks": ""
             }
            },
            "marker": {
             "colorbar": {
              "outlinewidth": 0,
              "ticks": ""
             }
            },
            "type": "scatter3d"
           }
          ],
          "scattercarpet": [
           {
            "marker": {
             "colorbar": {
              "outlinewidth": 0,
              "ticks": ""
             }
            },
            "type": "scattercarpet"
           }
          ],
          "scattergeo": [
           {
            "marker": {
             "colorbar": {
              "outlinewidth": 0,
              "ticks": ""
             }
            },
            "type": "scattergeo"
           }
          ],
          "scattergl": [
           {
            "marker": {
             "colorbar": {
              "outlinewidth": 0,
              "ticks": ""
             }
            },
            "type": "scattergl"
           }
          ],
          "scattermapbox": [
           {
            "marker": {
             "colorbar": {
              "outlinewidth": 0,
              "ticks": ""
             }
            },
            "type": "scattermapbox"
           }
          ],
          "scatterpolar": [
           {
            "marker": {
             "colorbar": {
              "outlinewidth": 0,
              "ticks": ""
             }
            },
            "type": "scatterpolar"
           }
          ],
          "scatterpolargl": [
           {
            "marker": {
             "colorbar": {
              "outlinewidth": 0,
              "ticks": ""
             }
            },
            "type": "scatterpolargl"
           }
          ],
          "scatterternary": [
           {
            "marker": {
             "colorbar": {
              "outlinewidth": 0,
              "ticks": ""
             }
            },
            "type": "scatterternary"
           }
          ],
          "surface": [
           {
            "colorbar": {
             "outlinewidth": 0,
             "ticks": ""
            },
            "colorscale": [
             [
              0,
              "#0d0887"
             ],
             [
              0.1111111111111111,
              "#46039f"
             ],
             [
              0.2222222222222222,
              "#7201a8"
             ],
             [
              0.3333333333333333,
              "#9c179e"
             ],
             [
              0.4444444444444444,
              "#bd3786"
             ],
             [
              0.5555555555555556,
              "#d8576b"
             ],
             [
              0.6666666666666666,
              "#ed7953"
             ],
             [
              0.7777777777777778,
              "#fb9f3a"
             ],
             [
              0.8888888888888888,
              "#fdca26"
             ],
             [
              1,
              "#f0f921"
             ]
            ],
            "type": "surface"
           }
          ],
          "table": [
           {
            "cells": {
             "fill": {
              "color": "#EBF0F8"
             },
             "line": {
              "color": "white"
             }
            },
            "header": {
             "fill": {
              "color": "#C8D4E3"
             },
             "line": {
              "color": "white"
             }
            },
            "type": "table"
           }
          ]
         },
         "layout": {
          "annotationdefaults": {
           "arrowcolor": "#2a3f5f",
           "arrowhead": 0,
           "arrowwidth": 1
          },
          "autotypenumbers": "strict",
          "coloraxis": {
           "colorbar": {
            "outlinewidth": 0,
            "ticks": ""
           }
          },
          "colorscale": {
           "diverging": [
            [
             0,
             "#8e0152"
            ],
            [
             0.1,
             "#c51b7d"
            ],
            [
             0.2,
             "#de77ae"
            ],
            [
             0.3,
             "#f1b6da"
            ],
            [
             0.4,
             "#fde0ef"
            ],
            [
             0.5,
             "#f7f7f7"
            ],
            [
             0.6,
             "#e6f5d0"
            ],
            [
             0.7,
             "#b8e186"
            ],
            [
             0.8,
             "#7fbc41"
            ],
            [
             0.9,
             "#4d9221"
            ],
            [
             1,
             "#276419"
            ]
           ],
           "sequential": [
            [
             0,
             "#0d0887"
            ],
            [
             0.1111111111111111,
             "#46039f"
            ],
            [
             0.2222222222222222,
             "#7201a8"
            ],
            [
             0.3333333333333333,
             "#9c179e"
            ],
            [
             0.4444444444444444,
             "#bd3786"
            ],
            [
             0.5555555555555556,
             "#d8576b"
            ],
            [
             0.6666666666666666,
             "#ed7953"
            ],
            [
             0.7777777777777778,
             "#fb9f3a"
            ],
            [
             0.8888888888888888,
             "#fdca26"
            ],
            [
             1,
             "#f0f921"
            ]
           ],
           "sequentialminus": [
            [
             0,
             "#0d0887"
            ],
            [
             0.1111111111111111,
             "#46039f"
            ],
            [
             0.2222222222222222,
             "#7201a8"
            ],
            [
             0.3333333333333333,
             "#9c179e"
            ],
            [
             0.4444444444444444,
             "#bd3786"
            ],
            [
             0.5555555555555556,
             "#d8576b"
            ],
            [
             0.6666666666666666,
             "#ed7953"
            ],
            [
             0.7777777777777778,
             "#fb9f3a"
            ],
            [
             0.8888888888888888,
             "#fdca26"
            ],
            [
             1,
             "#f0f921"
            ]
           ]
          },
          "colorway": [
           "#636efa",
           "#EF553B",
           "#00cc96",
           "#ab63fa",
           "#FFA15A",
           "#19d3f3",
           "#FF6692",
           "#B6E880",
           "#FF97FF",
           "#FECB52"
          ],
          "font": {
           "color": "#2a3f5f"
          },
          "geo": {
           "bgcolor": "white",
           "lakecolor": "white",
           "landcolor": "#E5ECF6",
           "showlakes": true,
           "showland": true,
           "subunitcolor": "white"
          },
          "hoverlabel": {
           "align": "left"
          },
          "hovermode": "closest",
          "mapbox": {
           "style": "light"
          },
          "paper_bgcolor": "white",
          "plot_bgcolor": "#E5ECF6",
          "polar": {
           "angularaxis": {
            "gridcolor": "white",
            "linecolor": "white",
            "ticks": ""
           },
           "bgcolor": "#E5ECF6",
           "radialaxis": {
            "gridcolor": "white",
            "linecolor": "white",
            "ticks": ""
           }
          },
          "scene": {
           "xaxis": {
            "backgroundcolor": "#E5ECF6",
            "gridcolor": "white",
            "gridwidth": 2,
            "linecolor": "white",
            "showbackground": true,
            "ticks": "",
            "zerolinecolor": "white"
           },
           "yaxis": {
            "backgroundcolor": "#E5ECF6",
            "gridcolor": "white",
            "gridwidth": 2,
            "linecolor": "white",
            "showbackground": true,
            "ticks": "",
            "zerolinecolor": "white"
           },
           "zaxis": {
            "backgroundcolor": "#E5ECF6",
            "gridcolor": "white",
            "gridwidth": 2,
            "linecolor": "white",
            "showbackground": true,
            "ticks": "",
            "zerolinecolor": "white"
           }
          },
          "shapedefaults": {
           "line": {
            "color": "#2a3f5f"
           }
          },
          "ternary": {
           "aaxis": {
            "gridcolor": "white",
            "linecolor": "white",
            "ticks": ""
           },
           "baxis": {
            "gridcolor": "white",
            "linecolor": "white",
            "ticks": ""
           },
           "bgcolor": "#E5ECF6",
           "caxis": {
            "gridcolor": "white",
            "linecolor": "white",
            "ticks": ""
           }
          },
          "title": {
           "x": 0.05
          },
          "xaxis": {
           "automargin": true,
           "gridcolor": "white",
           "linecolor": "white",
           "ticks": "",
           "title": {
            "standoff": 15
           },
           "zerolinecolor": "white",
           "zerolinewidth": 2
          },
          "yaxis": {
           "automargin": true,
           "gridcolor": "white",
           "linecolor": "white",
           "ticks": "",
           "title": {
            "standoff": 15
           },
           "zerolinecolor": "white",
           "zerolinewidth": 2
          }
         }
        },
        "title": {
         "text": "Win Percentage vs Three Point Attempts by Team (2021)"
        },
        "xaxis": {
         "anchor": "y",
         "domain": [
          0,
          1
         ],
         "title": {
          "text": "Three-Point Attempts Per Game"
         }
        },
        "yaxis": {
         "anchor": "x",
         "domain": [
          0,
          1
         ],
         "title": {
          "text": "Win Rate"
         }
        }
       }
      },
      "text/html": [
       "<div>                            <div id=\"4e716fa6-909e-4cc3-9fd0-24e2830d6f0d\" class=\"plotly-graph-div\" style=\"height:525px; width:100%;\"></div>            <script type=\"text/javascript\">                require([\"plotly\"], function(Plotly) {                    window.PLOTLYENV=window.PLOTLYENV || {};                                    if (document.getElementById(\"4e716fa6-909e-4cc3-9fd0-24e2830d6f0d\")) {                    Plotly.newPlot(                        \"4e716fa6-909e-4cc3-9fd0-24e2830d6f0d\",                        [{\"hovertemplate\":\"<b>%{hovertext}</b><br><br>Three-Point Attempts Per Game=%{x}<br>Win Rate=%{y}<br>TEAM_home=%{text}<br>Three-Point Pct%=%{marker.color}<extra></extra>\",\"hovertext\":[\"ATL\",\"BKN\",\"BOS\",\"CHA\",\"CHI\",\"CLE\",\"DAL\",\"DEN\",\"DET\",\"GSW\",\"HOU\",\"IND\",\"LAC\",\"LAL\",\"MEM\",\"MIA\",\"MIL\",\"MIN\",\"NOP\",\"NYK\",\"OKC\",\"ORL\",\"PHI\",\"PHX\",\"POR\",\"SAC\",\"SAS\",\"TOR\",\"UTA\",\"WAS\"],\"legendgroup\":\"\",\"marker\":{\"color\":[0.37676923076923075,0.3653,0.36613999999999997,0.37759574468085105,0.37142857142857144,0.3643529411764706,0.3486078431372549,0.367063829787234,0.33938,0.3860363636363636,0.3362941176470588,0.3424615384615385,0.39956363636363634,0.3420377358490566,0.3524181818181818,0.3699591836734694,0.38445098039215686,0.34507272727272725,0.35474509803921567,0.37948076923076923,0.3374313725490196,0.3461224489795919,0.378875,0.3824444444444445,0.3710185185185185,0.3658703703703704,0.35827450980392156,0.35092307692307695,0.3869259259259259,0.3438260869565218],\"coloraxis\":\"coloraxis\",\"symbol\":\"circle\"},\"mode\":\"markers+text\",\"name\":\"\",\"orientation\":\"v\",\"showlegend\":false,\"text\":[\"ATL\",\"BKN\",\"BOS\",\"CHA\",\"CHI\",\"CLE\",\"DAL\",\"DEN\",\"DET\",\"GSW\",\"HOU\",\"IND\",\"LAC\",\"LAL\",\"MEM\",\"MIA\",\"MIL\",\"MIN\",\"NOP\",\"NYK\",\"OKC\",\"ORL\",\"PHI\",\"PHX\",\"POR\",\"SAC\",\"SAS\",\"TOR\",\"UTA\",\"WAS\"],\"x\":[32.67307692307692,34.02,36.58,37.255319148936174,32.91836734693877,32.27450980392157,38.64705882352941,35.808510638297875,32.94,39.25454545454546,39.568627450980394,34.53846153846154,34.56363636363636,31.71698113207547,32.25454545454546,35.51020408163265,38.745098039215684,39.10909090909091,30.784313725490197,33.48076923076923,34.705882352941174,33.87755102040816,32.166666666666664,33.666666666666664,40.98148148148148,33.31481481481482,28.84313725490196,37.28846153846154,42.888888888888886,29.76086956521739],\"xaxis\":\"x\",\"y\":[0.6153846153846154,0.72,0.58,0.5531914893617021,0.5510204081632653,0.4117647058823529,0.5686274509803921,0.6808510638297872,0.32,0.7454545454545455,0.29411764705882354,0.40384615384615385,0.6545454545454545,0.5660377358490566,0.5636363636363636,0.6326530612244898,0.7058823529411765,0.4,0.47058823529411764,0.5961538461538461,0.35294117647058826,0.24489795918367346,0.6875,0.7592592592592593,0.5555555555555556,0.42592592592592593,0.39215686274509803,0.4423076923076923,0.8333333333333334,0.6086956521739131],\"yaxis\":\"y\",\"type\":\"scatter\",\"textposition\":\"top center\"}],                        {\"template\":{\"data\":{\"bar\":[{\"error_x\":{\"color\":\"#2a3f5f\"},\"error_y\":{\"color\":\"#2a3f5f\"},\"marker\":{\"line\":{\"color\":\"#E5ECF6\",\"width\":0.5},\"pattern\":{\"fillmode\":\"overlay\",\"size\":10,\"solidity\":0.2}},\"type\":\"bar\"}],\"barpolar\":[{\"marker\":{\"line\":{\"color\":\"#E5ECF6\",\"width\":0.5},\"pattern\":{\"fillmode\":\"overlay\",\"size\":10,\"solidity\":0.2}},\"type\":\"barpolar\"}],\"carpet\":[{\"aaxis\":{\"endlinecolor\":\"#2a3f5f\",\"gridcolor\":\"white\",\"linecolor\":\"white\",\"minorgridcolor\":\"white\",\"startlinecolor\":\"#2a3f5f\"},\"baxis\":{\"endlinecolor\":\"#2a3f5f\",\"gridcolor\":\"white\",\"linecolor\":\"white\",\"minorgridcolor\":\"white\",\"startlinecolor\":\"#2a3f5f\"},\"type\":\"carpet\"}],\"choropleth\":[{\"colorbar\":{\"outlinewidth\":0,\"ticks\":\"\"},\"type\":\"choropleth\"}],\"contour\":[{\"colorbar\":{\"outlinewidth\":0,\"ticks\":\"\"},\"colorscale\":[[0.0,\"#0d0887\"],[0.1111111111111111,\"#46039f\"],[0.2222222222222222,\"#7201a8\"],[0.3333333333333333,\"#9c179e\"],[0.4444444444444444,\"#bd3786\"],[0.5555555555555556,\"#d8576b\"],[0.6666666666666666,\"#ed7953\"],[0.7777777777777778,\"#fb9f3a\"],[0.8888888888888888,\"#fdca26\"],[1.0,\"#f0f921\"]],\"type\":\"contour\"}],\"contourcarpet\":[{\"colorbar\":{\"outlinewidth\":0,\"ticks\":\"\"},\"type\":\"contourcarpet\"}],\"heatmap\":[{\"colorbar\":{\"outlinewidth\":0,\"ticks\":\"\"},\"colorscale\":[[0.0,\"#0d0887\"],[0.1111111111111111,\"#46039f\"],[0.2222222222222222,\"#7201a8\"],[0.3333333333333333,\"#9c179e\"],[0.4444444444444444,\"#bd3786\"],[0.5555555555555556,\"#d8576b\"],[0.6666666666666666,\"#ed7953\"],[0.7777777777777778,\"#fb9f3a\"],[0.8888888888888888,\"#fdca26\"],[1.0,\"#f0f921\"]],\"type\":\"heatmap\"}],\"heatmapgl\":[{\"colorbar\":{\"outlinewidth\":0,\"ticks\":\"\"},\"colorscale\":[[0.0,\"#0d0887\"],[0.1111111111111111,\"#46039f\"],[0.2222222222222222,\"#7201a8\"],[0.3333333333333333,\"#9c179e\"],[0.4444444444444444,\"#bd3786\"],[0.5555555555555556,\"#d8576b\"],[0.6666666666666666,\"#ed7953\"],[0.7777777777777778,\"#fb9f3a\"],[0.8888888888888888,\"#fdca26\"],[1.0,\"#f0f921\"]],\"type\":\"heatmapgl\"}],\"histogram\":[{\"marker\":{\"pattern\":{\"fillmode\":\"overlay\",\"size\":10,\"solidity\":0.2}},\"type\":\"histogram\"}],\"histogram2d\":[{\"colorbar\":{\"outlinewidth\":0,\"ticks\":\"\"},\"colorscale\":[[0.0,\"#0d0887\"],[0.1111111111111111,\"#46039f\"],[0.2222222222222222,\"#7201a8\"],[0.3333333333333333,\"#9c179e\"],[0.4444444444444444,\"#bd3786\"],[0.5555555555555556,\"#d8576b\"],[0.6666666666666666,\"#ed7953\"],[0.7777777777777778,\"#fb9f3a\"],[0.8888888888888888,\"#fdca26\"],[1.0,\"#f0f921\"]],\"type\":\"histogram2d\"}],\"histogram2dcontour\":[{\"colorbar\":{\"outlinewidth\":0,\"ticks\":\"\"},\"colorscale\":[[0.0,\"#0d0887\"],[0.1111111111111111,\"#46039f\"],[0.2222222222222222,\"#7201a8\"],[0.3333333333333333,\"#9c179e\"],[0.4444444444444444,\"#bd3786\"],[0.5555555555555556,\"#d8576b\"],[0.6666666666666666,\"#ed7953\"],[0.7777777777777778,\"#fb9f3a\"],[0.8888888888888888,\"#fdca26\"],[1.0,\"#f0f921\"]],\"type\":\"histogram2dcontour\"}],\"mesh3d\":[{\"colorbar\":{\"outlinewidth\":0,\"ticks\":\"\"},\"type\":\"mesh3d\"}],\"parcoords\":[{\"line\":{\"colorbar\":{\"outlinewidth\":0,\"ticks\":\"\"}},\"type\":\"parcoords\"}],\"pie\":[{\"automargin\":true,\"type\":\"pie\"}],\"scatter\":[{\"marker\":{\"colorbar\":{\"outlinewidth\":0,\"ticks\":\"\"}},\"type\":\"scatter\"}],\"scatter3d\":[{\"line\":{\"colorbar\":{\"outlinewidth\":0,\"ticks\":\"\"}},\"marker\":{\"colorbar\":{\"outlinewidth\":0,\"ticks\":\"\"}},\"type\":\"scatter3d\"}],\"scattercarpet\":[{\"marker\":{\"colorbar\":{\"outlinewidth\":0,\"ticks\":\"\"}},\"type\":\"scattercarpet\"}],\"scattergeo\":[{\"marker\":{\"colorbar\":{\"outlinewidth\":0,\"ticks\":\"\"}},\"type\":\"scattergeo\"}],\"scattergl\":[{\"marker\":{\"colorbar\":{\"outlinewidth\":0,\"ticks\":\"\"}},\"type\":\"scattergl\"}],\"scattermapbox\":[{\"marker\":{\"colorbar\":{\"outlinewidth\":0,\"ticks\":\"\"}},\"type\":\"scattermapbox\"}],\"scatterpolar\":[{\"marker\":{\"colorbar\":{\"outlinewidth\":0,\"ticks\":\"\"}},\"type\":\"scatterpolar\"}],\"scatterpolargl\":[{\"marker\":{\"colorbar\":{\"outlinewidth\":0,\"ticks\":\"\"}},\"type\":\"scatterpolargl\"}],\"scatterternary\":[{\"marker\":{\"colorbar\":{\"outlinewidth\":0,\"ticks\":\"\"}},\"type\":\"scatterternary\"}],\"surface\":[{\"colorbar\":{\"outlinewidth\":0,\"ticks\":\"\"},\"colorscale\":[[0.0,\"#0d0887\"],[0.1111111111111111,\"#46039f\"],[0.2222222222222222,\"#7201a8\"],[0.3333333333333333,\"#9c179e\"],[0.4444444444444444,\"#bd3786\"],[0.5555555555555556,\"#d8576b\"],[0.6666666666666666,\"#ed7953\"],[0.7777777777777778,\"#fb9f3a\"],[0.8888888888888888,\"#fdca26\"],[1.0,\"#f0f921\"]],\"type\":\"surface\"}],\"table\":[{\"cells\":{\"fill\":{\"color\":\"#EBF0F8\"},\"line\":{\"color\":\"white\"}},\"header\":{\"fill\":{\"color\":\"#C8D4E3\"},\"line\":{\"color\":\"white\"}},\"type\":\"table\"}]},\"layout\":{\"annotationdefaults\":{\"arrowcolor\":\"#2a3f5f\",\"arrowhead\":0,\"arrowwidth\":1},\"autotypenumbers\":\"strict\",\"coloraxis\":{\"colorbar\":{\"outlinewidth\":0,\"ticks\":\"\"}},\"colorscale\":{\"diverging\":[[0,\"#8e0152\"],[0.1,\"#c51b7d\"],[0.2,\"#de77ae\"],[0.3,\"#f1b6da\"],[0.4,\"#fde0ef\"],[0.5,\"#f7f7f7\"],[0.6,\"#e6f5d0\"],[0.7,\"#b8e186\"],[0.8,\"#7fbc41\"],[0.9,\"#4d9221\"],[1,\"#276419\"]],\"sequential\":[[0.0,\"#0d0887\"],[0.1111111111111111,\"#46039f\"],[0.2222222222222222,\"#7201a8\"],[0.3333333333333333,\"#9c179e\"],[0.4444444444444444,\"#bd3786\"],[0.5555555555555556,\"#d8576b\"],[0.6666666666666666,\"#ed7953\"],[0.7777777777777778,\"#fb9f3a\"],[0.8888888888888888,\"#fdca26\"],[1.0,\"#f0f921\"]],\"sequentialminus\":[[0.0,\"#0d0887\"],[0.1111111111111111,\"#46039f\"],[0.2222222222222222,\"#7201a8\"],[0.3333333333333333,\"#9c179e\"],[0.4444444444444444,\"#bd3786\"],[0.5555555555555556,\"#d8576b\"],[0.6666666666666666,\"#ed7953\"],[0.7777777777777778,\"#fb9f3a\"],[0.8888888888888888,\"#fdca26\"],[1.0,\"#f0f921\"]]},\"colorway\":[\"#636efa\",\"#EF553B\",\"#00cc96\",\"#ab63fa\",\"#FFA15A\",\"#19d3f3\",\"#FF6692\",\"#B6E880\",\"#FF97FF\",\"#FECB52\"],\"font\":{\"color\":\"#2a3f5f\"},\"geo\":{\"bgcolor\":\"white\",\"lakecolor\":\"white\",\"landcolor\":\"#E5ECF6\",\"showlakes\":true,\"showland\":true,\"subunitcolor\":\"white\"},\"hoverlabel\":{\"align\":\"left\"},\"hovermode\":\"closest\",\"mapbox\":{\"style\":\"light\"},\"paper_bgcolor\":\"white\",\"plot_bgcolor\":\"#E5ECF6\",\"polar\":{\"angularaxis\":{\"gridcolor\":\"white\",\"linecolor\":\"white\",\"ticks\":\"\"},\"bgcolor\":\"#E5ECF6\",\"radialaxis\":{\"gridcolor\":\"white\",\"linecolor\":\"white\",\"ticks\":\"\"}},\"scene\":{\"xaxis\":{\"backgroundcolor\":\"#E5ECF6\",\"gridcolor\":\"white\",\"gridwidth\":2,\"linecolor\":\"white\",\"showbackground\":true,\"ticks\":\"\",\"zerolinecolor\":\"white\"},\"yaxis\":{\"backgroundcolor\":\"#E5ECF6\",\"gridcolor\":\"white\",\"gridwidth\":2,\"linecolor\":\"white\",\"showbackground\":true,\"ticks\":\"\",\"zerolinecolor\":\"white\"},\"zaxis\":{\"backgroundcolor\":\"#E5ECF6\",\"gridcolor\":\"white\",\"gridwidth\":2,\"linecolor\":\"white\",\"showbackground\":true,\"ticks\":\"\",\"zerolinecolor\":\"white\"}},\"shapedefaults\":{\"line\":{\"color\":\"#2a3f5f\"}},\"ternary\":{\"aaxis\":{\"gridcolor\":\"white\",\"linecolor\":\"white\",\"ticks\":\"\"},\"baxis\":{\"gridcolor\":\"white\",\"linecolor\":\"white\",\"ticks\":\"\"},\"bgcolor\":\"#E5ECF6\",\"caxis\":{\"gridcolor\":\"white\",\"linecolor\":\"white\",\"ticks\":\"\"}},\"title\":{\"x\":0.05},\"xaxis\":{\"automargin\":true,\"gridcolor\":\"white\",\"linecolor\":\"white\",\"ticks\":\"\",\"title\":{\"standoff\":15},\"zerolinecolor\":\"white\",\"zerolinewidth\":2},\"yaxis\":{\"automargin\":true,\"gridcolor\":\"white\",\"linecolor\":\"white\",\"ticks\":\"\",\"title\":{\"standoff\":15},\"zerolinecolor\":\"white\",\"zerolinewidth\":2}}},\"xaxis\":{\"anchor\":\"y\",\"domain\":[0.0,1.0],\"title\":{\"text\":\"Three-Point Attempts Per Game\"}},\"yaxis\":{\"anchor\":\"x\",\"domain\":[0.0,1.0],\"title\":{\"text\":\"Win Rate\"}},\"coloraxis\":{\"colorbar\":{\"title\":{\"text\":\"Three-Point Pct%\"}},\"colorscale\":[[0.0,\"#0d0887\"],[0.1111111111111111,\"#46039f\"],[0.2222222222222222,\"#7201a8\"],[0.3333333333333333,\"#9c179e\"],[0.4444444444444444,\"#bd3786\"],[0.5555555555555556,\"#d8576b\"],[0.6666666666666666,\"#ed7953\"],[0.7777777777777778,\"#fb9f3a\"],[0.8888888888888888,\"#fdca26\"],[1.0,\"#f0f921\"]]},\"legend\":{\"tracegroupgap\":0},\"title\":{\"text\":\"Win Percentage vs Three Point Attempts by Team (2021)\"}},                        {\"responsive\": true}                    ).then(function(){\n",
       "                            \n",
       "var gd = document.getElementById('4e716fa6-909e-4cc3-9fd0-24e2830d6f0d');\n",
       "var x = new MutationObserver(function (mutations, observer) {{\n",
       "        var display = window.getComputedStyle(gd).display;\n",
       "        if (!display || display === 'none') {{\n",
       "            console.log([gd, 'removed!']);\n",
       "            Plotly.purge(gd);\n",
       "            observer.disconnect();\n",
       "        }}\n",
       "}});\n",
       "\n",
       "// Listen for the removal of the full notebook cells\n",
       "var notebookContainer = gd.closest('#notebook-container');\n",
       "if (notebookContainer) {{\n",
       "    x.observe(notebookContainer, {childList: true});\n",
       "}}\n",
       "\n",
       "// Listen for the clearing of the current output cell\n",
       "var outputEl = gd.closest('.output');\n",
       "if (outputEl) {{\n",
       "    x.observe(outputEl, {childList: true});\n",
       "}}\n",
       "\n",
       "                        })                };                });            </script>        </div>"
      ]
     },
     "metadata": {},
     "output_type": "display_data"
    }
   ],
   "source": [
    "### Bubble Chart\n",
    "fig = px.scatter(threes_df.query(f'YEAR=={2021}'), x='3PA_home', y='WIN_home',\n",
    "                 color='FG3_PCT_home', hover_name='TEAM_home', text=\"TEAM_home\", \n",
    "                 labels={\n",
    "                     \"3PA_home\": \"Three-Point Attempts Per Game\",\n",
    "                     \"WIN_home\": \"Win Rate\",\n",
    "                     \"FG3_PCT_home\": \"Three-Point Pct%\"\n",
    "                 }, \n",
    "                 title=\"Win Percentage vs Three Point Attempts by Team (2021)\")\n",
    "fig.update_traces(textposition='top center')\n",
    "\n",
    "fig.show()"
   ]
  },
  {
   "cell_type": "code",
   "execution_count": null,
   "id": "b34000ad",
   "metadata": {},
   "outputs": [],
   "source": [
    "# Timeline of 3pa average per year\n",
    "threes_avg_timeline = df[['3PA_home','3PA_away']].resample('Y').mean()\n",
    "fig = px.line(threes_avg_timeline, labels={'GAME_DATE':'Year', 'value':'Average 3PA'},title='Average 3PA for home/away by year')\n",
    "fig.update_layout(xaxis = dict(\n",
    "        tickvals = [2013 ,2014, 2015, 2016, 2017, 2018, 2019,2020,2021,2022],\n",
    "        ticktext = [2013, 2014, 2015, 2016, 2017, 2018, 2019,2020,2021,2022]\n",
    "))\n",
    "fig.show()"
   ]
  },
  {
   "cell_type": "code",
   "execution_count": null,
   "id": "1ee6b722",
   "metadata": {},
   "outputs": [],
   "source": [
    "# Timeline of 3pt ratio average per year\n",
    "ratio_avg_timeline = df[['3P_ratio_home','3P_ratio_away']].resample('Y').mean()\n",
    "fig = px.line(ratio_avg_timeline, labels={'GAME_DATE':'Year', 'value':'Average 3PA'},title='Average 3PA for home/away by year')\n",
    "fig.update_layout(xaxis = dict(\n",
    "        tickvals = [2013 ,2014, 2015, 2016, 2017, 2018, 2019,2020,2021,2022],\n",
    "        ticktext = [2013, 2014, 2015, 2016, 2017, 2018, 2019,2020,2021,2022]\n",
    "))\n",
    "fig.show()"
   ]
  },
  {
   "cell_type": "code",
   "execution_count": null,
   "id": "57a960af",
   "metadata": {},
   "outputs": [],
   "source": [
    "# Timeline of AST average per year\n",
    "ast_avg_timeline = df[['AST_home','AST_away']].resample('Y').mean()\n",
    "fig = px.line(ast_avg_timeline, labels={'GAME_DATE':'Year', 'value':'Average AST'},title='Average AST for home/away by year')\n",
    "fig.update_layout(xaxis = dict(\n",
    "        tickvals = [2013 ,2014, 2015, 2016, 2017, 2018, 2019,2020,2021,2022],\n",
    "        ticktext = [2013, 2014, 2015, 2016, 2017, 2018, 2019,2020,2021,2022]\n",
    "))\n",
    "fig.show()"
   ]
  },
  {
   "cell_type": "code",
   "execution_count": null,
   "id": "86c5eafb",
   "metadata": {},
   "outputs": [],
   "source": [
    "# Timeline of FGA average per year\n",
    "fga_avg_timeline = df[['FGA_home','FGA_away']].resample('Y').mean()\n",
    "fig = px.line(fga_avg_timeline, labels={'GAME_DATE':'Year', 'value':'Average FGA'},title='Average FGA for home/away by year')\n",
    "fig.update_layout(xaxis = dict(\n",
    "        tickvals = [2013,2014, 2015, 2016, 2017, 2018, 2019,2020,2021,2022],\n",
    "        ticktext = [2013,2014, 2015, 2016, 2017, 2018, 2019,2020,2021,2022]\n",
    "))\n",
    "fig.show()"
   ]
  },
  {
   "cell_type": "code",
   "execution_count": null,
   "id": "3bb82cd1",
   "metadata": {},
   "outputs": [],
   "source": [
    "# Timeline of REB average per year\n",
    "reb_avg_timeline = df[['REB_home','REB_away']].resample('Y').mean()\n",
    "fig = px.line(reb_avg_timeline, labels={'GAME_DATE':'Year', 'value':'Average REB'},title='Average REB for home/away by year')\n",
    "fig.update_layout(xaxis = dict(\n",
    "        tickvals = [2013,2014, 2015, 2016, 2017, 2018, 2019,2020,2021,2022],\n",
    "        ticktext = [2013,2014, 2015, 2016, 2017, 2018, 2019,2020,2021,2022]\n",
    "))\n",
    "fig.show()"
   ]
  },
  {
   "cell_type": "code",
   "execution_count": null,
   "id": "582bc9dc",
   "metadata": {},
   "outputs": [],
   "source": [
    "# Timeline of FGA average per year\n",
    "fg3_avg_timeline = df[['FG3_PCT_home','FG3_PCT_away']].resample('Y').mean()\n",
    "fig = px.line(fg3_avg_timeline, labels={'GAME_DATE':'Year', 'value':'Average FG3_PCT'},title='Average FG3_PCT for home/away by year')\n",
    "fig.update_layout(xaxis = dict(\n",
    "        tickvals = [2013,2014, 2015, 2016, 2017, 2018, 2019,2020,2021,2022],\n",
    "        ticktext = [2013,2014, 2015, 2016, 2017, 2018, 2019,2020,2021,2022]\n",
    "))\n",
    "fig.show()"
   ]
  },
  {
   "cell_type": "code",
   "execution_count": null,
   "id": "b6d356f1",
   "metadata": {},
   "outputs": [],
   "source": [
    "threes = pd.read_csv('nba_threes.csv')"
   ]
  },
  {
   "cell_type": "code",
   "execution_count": null,
   "id": "af513747",
   "metadata": {},
   "outputs": [],
   "source": [
    "threes_js = threes.to_json('nba_threes.json')"
   ]
  },
  {
   "cell_type": "code",
   "execution_count": null,
   "id": "ea372821",
   "metadata": {},
   "outputs": [],
   "source": []
  }
 ],
 "metadata": {
  "kernelspec": {
   "display_name": "mlenv",
   "language": "python",
   "name": "mlenv"
  },
  "language_info": {
   "codemirror_mode": {
    "name": "ipython",
    "version": 3
   },
   "file_extension": ".py",
   "mimetype": "text/x-python",
   "name": "python",
   "nbconvert_exporter": "python",
   "pygments_lexer": "ipython3",
   "version": "3.7.11"
  }
 },
 "nbformat": 4,
 "nbformat_minor": 5
}
