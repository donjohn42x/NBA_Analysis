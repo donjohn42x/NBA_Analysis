{
 "cells": [
  {
   "cell_type": "markdown",
   "id": "0a277784",
   "metadata": {},
   "source": [
    "# NBA Game Outcome"
   ]
  },
  {
   "cell_type": "code",
   "execution_count": 1,
   "id": "1ac6d918",
   "metadata": {},
   "outputs": [],
   "source": [
    "# Import Dependencies\n",
    "import matplotlib.pyplot as plt\n",
    "import pandas as pd\n",
    "import numpy as np\n",
    "\n",
    "from sklearn.model_selection import train_test_split\n",
    "from imblearn.ensemble import BalancedRandomForestClassifier\n",
    "from sklearn.metrics import balanced_accuracy_score\n",
    "from sklearn.metrics import confusion_matrix"
   ]
  },
  {
   "cell_type": "code",
   "execution_count": 2,
   "id": "aa262f80",
   "metadata": {},
   "outputs": [],
   "source": [
    "games_df = pd.concat(map\n",
    "                     (pd.read_csv, \n",
    "                          ['data/game_details/nba_game_detailsSeason=2021-22.csv', \n",
    "                           'data/game_details/nba_game_detailsSeason=2020-21.csv', \n",
    "                           'data/game_details/nba_game_detailsSeason=2019-20.csv',\n",
    "                           'data/game_details/nba_game_detailsSeason=2018-19.csv',\n",
    "                           'data/game_details/nba_game_detailsSeason=2017-18.csv',\n",
    "                           'data/game_details/nba_game_detailsSeason=2016-17.csv',\n",
    "                           'data/game_details/nba_game_detailsSeason=2015-16.csv',\n",
    "                           'data/game_details/nba_game_detailsSeason=2014-15.csv',\n",
    "                           'data/game_details/nba_game_detailsSeason=2013-14.csv',\n",
    "                           'data/game_details/nba_game_detailsSeason=2012-13.csv']), ignore_index=True)"
   ]
  },
  {
   "cell_type": "code",
   "execution_count": 30,
   "id": "ce5c9122",
   "metadata": {
    "scrolled": false
   },
   "outputs": [
    {
     "name": "stderr",
     "output_type": "stream",
     "text": [
      "C:\\Users\\donjo\\anaconda3\\envs\\mlenv\\lib\\site-packages\\ipykernel_launcher.py:29: UserWarning: Boolean Series key will be reindexed to match DataFrame index.\n",
      "C:\\Users\\donjo\\anaconda3\\envs\\mlenv\\lib\\site-packages\\ipykernel_launcher.py:30: UserWarning: Boolean Series key will be reindexed to match DataFrame index.\n"
     ]
    },
    {
     "data": {
      "text/html": [
       "<div>\n",
       "<style scoped>\n",
       "    .dataframe tbody tr th:only-of-type {\n",
       "        vertical-align: middle;\n",
       "    }\n",
       "\n",
       "    .dataframe tbody tr th {\n",
       "        vertical-align: top;\n",
       "    }\n",
       "\n",
       "    .dataframe thead th {\n",
       "        text-align: right;\n",
       "    }\n",
       "</style>\n",
       "<table border=\"1\" class=\"dataframe\">\n",
       "  <thead>\n",
       "    <tr style=\"text-align: right;\">\n",
       "      <th></th>\n",
       "      <th>FGA_HOME</th>\n",
       "      <th>FGA_AWAY</th>\n",
       "      <th>FG_PCT_HOME</th>\n",
       "      <th>FG_PCT_AWAY</th>\n",
       "      <th>FG3_PCT_HOME</th>\n",
       "      <th>FG3_PCT_AWAY</th>\n",
       "      <th>DREB_HOME</th>\n",
       "      <th>DREB_AWAY</th>\n",
       "      <th>REB_HOME</th>\n",
       "      <th>REB_AWAY</th>\n",
       "      <th>AST_HOME</th>\n",
       "      <th>AST_AWAY</th>\n",
       "      <th>WIN</th>\n",
       "    </tr>\n",
       "  </thead>\n",
       "  <tbody>\n",
       "    <tr>\n",
       "      <th>0</th>\n",
       "      <td>86.40</td>\n",
       "      <td>87.00</td>\n",
       "      <td>0.49</td>\n",
       "      <td>0.47</td>\n",
       "      <td>0.34</td>\n",
       "      <td>0.35</td>\n",
       "      <td>37.20</td>\n",
       "      <td>33.95</td>\n",
       "      <td>46.90</td>\n",
       "      <td>43.6</td>\n",
       "      <td>28.70</td>\n",
       "      <td>25.75</td>\n",
       "      <td>1</td>\n",
       "    </tr>\n",
       "    <tr>\n",
       "      <th>1</th>\n",
       "      <td>87.00</td>\n",
       "      <td>88.00</td>\n",
       "      <td>0.47</td>\n",
       "      <td>0.46</td>\n",
       "      <td>0.35</td>\n",
       "      <td>0.39</td>\n",
       "      <td>33.95</td>\n",
       "      <td>34.75</td>\n",
       "      <td>43.60</td>\n",
       "      <td>44.3</td>\n",
       "      <td>25.75</td>\n",
       "      <td>24.90</td>\n",
       "      <td>1</td>\n",
       "    </tr>\n",
       "    <tr>\n",
       "      <th>2</th>\n",
       "      <td>87.00</td>\n",
       "      <td>87.45</td>\n",
       "      <td>0.47</td>\n",
       "      <td>0.49</td>\n",
       "      <td>0.35</td>\n",
       "      <td>0.36</td>\n",
       "      <td>33.95</td>\n",
       "      <td>33.70</td>\n",
       "      <td>43.60</td>\n",
       "      <td>41.9</td>\n",
       "      <td>25.75</td>\n",
       "      <td>23.40</td>\n",
       "      <td>1</td>\n",
       "    </tr>\n",
       "    <tr>\n",
       "      <th>3</th>\n",
       "      <td>89.85</td>\n",
       "      <td>87.00</td>\n",
       "      <td>0.49</td>\n",
       "      <td>0.47</td>\n",
       "      <td>0.39</td>\n",
       "      <td>0.35</td>\n",
       "      <td>36.05</td>\n",
       "      <td>33.95</td>\n",
       "      <td>46.10</td>\n",
       "      <td>43.6</td>\n",
       "      <td>25.25</td>\n",
       "      <td>25.75</td>\n",
       "      <td>1</td>\n",
       "    </tr>\n",
       "    <tr>\n",
       "      <th>4</th>\n",
       "      <td>88.70</td>\n",
       "      <td>87.00</td>\n",
       "      <td>0.43</td>\n",
       "      <td>0.47</td>\n",
       "      <td>0.35</td>\n",
       "      <td>0.35</td>\n",
       "      <td>35.70</td>\n",
       "      <td>33.95</td>\n",
       "      <td>48.55</td>\n",
       "      <td>43.6</td>\n",
       "      <td>22.15</td>\n",
       "      <td>25.75</td>\n",
       "      <td>0</td>\n",
       "    </tr>\n",
       "  </tbody>\n",
       "</table>\n",
       "</div>"
      ],
      "text/plain": [
       "   FGA_HOME  FGA_AWAY  FG_PCT_HOME  FG_PCT_AWAY  FG3_PCT_HOME  FG3_PCT_AWAY  \\\n",
       "0     86.40     87.00         0.49         0.47          0.34          0.35   \n",
       "1     87.00     88.00         0.47         0.46          0.35          0.39   \n",
       "2     87.00     87.45         0.47         0.49          0.35          0.36   \n",
       "3     89.85     87.00         0.49         0.47          0.39          0.35   \n",
       "4     88.70     87.00         0.43         0.47          0.35          0.35   \n",
       "\n",
       "   DREB_HOME  DREB_AWAY  REB_HOME  REB_AWAY  AST_HOME  AST_AWAY  WIN  \n",
       "0      37.20      33.95     46.90      43.6     28.70     25.75    1  \n",
       "1      33.95      34.75     43.60      44.3     25.75     24.90    1  \n",
       "2      33.95      33.70     43.60      41.9     25.75     23.40    1  \n",
       "3      36.05      33.95     46.10      43.6     25.25     25.75    1  \n",
       "4      35.70      33.95     48.55      43.6     22.15     25.75    0  "
      ]
     },
     "execution_count": 30,
     "metadata": {},
     "output_type": "execute_result"
    }
   ],
   "source": [
    "# Creating rows for dataframe\n",
    "trans_df = pd.DataFrame()\n",
    "y = []\n",
    "for i in range(0,3000):#len(games_df)):\n",
    "    # Check Matchup to see which team is Home\n",
    "    if \"@\" in games_df[\"MATCHUP\"][i]:\n",
    "        away_team = games_df[\"TEAM_ABBREVIATION\"]\n",
    "        home_team = games_df[\"MATCHUP\"][i][-3:]\n",
    "        \n",
    "        #Adding win/loss to home team\n",
    "        if games_df[\"PLUS_MINUS\"][i] > 0:\n",
    "            y.append(0)\n",
    "        else:\n",
    "            y.append(1)\n",
    "         \n",
    "    else:\n",
    "        home_team = games_df[\"TEAM_ABBREVIATION\"]\n",
    "        away_team = games_df[\"MATCHUP\"][i][-3:]\n",
    "        \n",
    "        #Adding win/loss to home team\n",
    "        if games_df[\"PLUS_MINUS\"][i] > 0:\n",
    "            y.append(1)\n",
    "        else:\n",
    "            y.append(0)\n",
    "    # row list for df\n",
    "    row = []\n",
    "    \n",
    "    #Last 10 games df for both teams\n",
    "    last_10h = games_df[games_df[\"TEAM_ABBREVIATION\"] == home_team][games_df[\"GAME_DATE\"]< games_df[\"GAME_DATE\"][i]].head(20)\n",
    "    last_10a = games_df[games_df[\"TEAM_ABBREVIATION\"] == away_team][games_df[\"GAME_DATE\"]< games_df[\"GAME_DATE\"][i]].head(20)\n",
    "\n",
    "    needed_features = [\"FGA\", \"FG_PCT\", \"FG3_PCT\", \"DREB\", \"REB\", \"AST\"]\n",
    "    \n",
    "    for feature in needed_features:\n",
    "        row.append(round((sum(last_10h[feature])/20),2))\n",
    "        row.append(round((sum(last_10a[feature])/20),2))\n",
    "    \n",
    "    trans_df = trans_df.append(pd.DataFrame([row]), ignore_index=True)\n",
    "\n",
    "trans_df=trans_df.set_axis([\"FGA_HOME\",\"FGA_AWAY\", \"FG_PCT_HOME\", \"FG_PCT_AWAY\", \"FG3_PCT_HOME\", \"FG3_PCT_AWAY\", \n",
    "                               \"DREB_HOME\", \"DREB_AWAY\", \"REB_HOME\", \"REB_AWAY\", \"AST_HOME\", \"AST_AWAY\"], axis=1)\n",
    "        \n",
    "trans_df[\"WIN\"] = y\n",
    "\n",
    "trans_df.head()"
   ]
  },
  {
   "cell_type": "markdown",
   "id": "f57fa432",
   "metadata": {},
   "source": [
    "# Read the Data and Perform Basic Data Cleaning"
   ]
  },
  {
   "cell_type": "code",
   "execution_count": 4,
   "id": "11a4e08e",
   "metadata": {},
   "outputs": [],
   "source": [
    "columns = [\"HOME_TEAM_ID\", \"VISITOR_TEAM_ID\", \"SEASON\", \"PTS_home\", \"FG_PCT_home\", \"FT_PCT_home\", \"FG3_PCT_home\", \"AST_home\", \"REB_home\", \"PTS_away\", \"FG_PCT_away\", \"FT_PCT_away\", \"FG3_PCT_away\", \"AST_away\", \"REB_away\"]\n",
    "\n",
    "target = [\"HOME_TEAM_WINS\"]"
   ]
  },
  {
   "cell_type": "code",
   "execution_count": 31,
   "id": "084950e2",
   "metadata": {},
   "outputs": [
    {
     "data": {
      "text/html": [
       "<div>\n",
       "<style scoped>\n",
       "    .dataframe tbody tr th:only-of-type {\n",
       "        vertical-align: middle;\n",
       "    }\n",
       "\n",
       "    .dataframe tbody tr th {\n",
       "        vertical-align: top;\n",
       "    }\n",
       "\n",
       "    .dataframe thead th {\n",
       "        text-align: right;\n",
       "    }\n",
       "</style>\n",
       "<table border=\"1\" class=\"dataframe\">\n",
       "  <thead>\n",
       "    <tr style=\"text-align: right;\">\n",
       "      <th></th>\n",
       "      <th>FGA_DIFF</th>\n",
       "      <th>FG_PCT_RATIO</th>\n",
       "      <th>FG3_PCT_RATIO</th>\n",
       "      <th>DREB_DIFF</th>\n",
       "      <th>REB_DIFF</th>\n",
       "      <th>AST_DIFF</th>\n",
       "      <th>WIN</th>\n",
       "    </tr>\n",
       "  </thead>\n",
       "  <tbody>\n",
       "    <tr>\n",
       "      <th>0</th>\n",
       "      <td>-0.60</td>\n",
       "      <td>1.042553</td>\n",
       "      <td>0.971429</td>\n",
       "      <td>3.25</td>\n",
       "      <td>3.30</td>\n",
       "      <td>2.95</td>\n",
       "      <td>1</td>\n",
       "    </tr>\n",
       "    <tr>\n",
       "      <th>1</th>\n",
       "      <td>-1.00</td>\n",
       "      <td>1.021739</td>\n",
       "      <td>0.897436</td>\n",
       "      <td>-0.80</td>\n",
       "      <td>-0.70</td>\n",
       "      <td>0.85</td>\n",
       "      <td>1</td>\n",
       "    </tr>\n",
       "    <tr>\n",
       "      <th>2</th>\n",
       "      <td>-0.45</td>\n",
       "      <td>0.959184</td>\n",
       "      <td>0.972222</td>\n",
       "      <td>0.25</td>\n",
       "      <td>1.70</td>\n",
       "      <td>2.35</td>\n",
       "      <td>1</td>\n",
       "    </tr>\n",
       "    <tr>\n",
       "      <th>3</th>\n",
       "      <td>2.85</td>\n",
       "      <td>1.042553</td>\n",
       "      <td>1.114286</td>\n",
       "      <td>2.10</td>\n",
       "      <td>2.50</td>\n",
       "      <td>-0.50</td>\n",
       "      <td>1</td>\n",
       "    </tr>\n",
       "    <tr>\n",
       "      <th>4</th>\n",
       "      <td>1.70</td>\n",
       "      <td>0.914894</td>\n",
       "      <td>1.000000</td>\n",
       "      <td>1.75</td>\n",
       "      <td>4.95</td>\n",
       "      <td>-3.60</td>\n",
       "      <td>0</td>\n",
       "    </tr>\n",
       "  </tbody>\n",
       "</table>\n",
       "</div>"
      ],
      "text/plain": [
       "   FGA_DIFF  FG_PCT_RATIO  FG3_PCT_RATIO  DREB_DIFF  REB_DIFF  AST_DIFF  WIN\n",
       "0     -0.60      1.042553       0.971429       3.25      3.30      2.95    1\n",
       "1     -1.00      1.021739       0.897436      -0.80     -0.70      0.85    1\n",
       "2     -0.45      0.959184       0.972222       0.25      1.70      2.35    1\n",
       "3      2.85      1.042553       1.114286       2.10      2.50     -0.50    1\n",
       "4      1.70      0.914894       1.000000       1.75      4.95     -3.60    0"
      ]
     },
     "execution_count": 31,
     "metadata": {},
     "output_type": "execute_result"
    }
   ],
   "source": [
    "\"\"\"# Load the data from AWS - REVIEW WITH TEAM\n",
    "file_path =\"https://YOUR-BUCKET-NAME.s3.amazonaws.com/INSERTLINK\"\n",
    "df = pd.read_csv(file_path, skiprows=1)[:-2]\n",
    "df = df.loc[:, columns].copy()\n",
    "\n",
    "# Drop the null comumns where all values are null\n",
    "df = df.dropna(axis='columns', how='all')\n",
    "\n",
    "# Drop the null rows\n",
    "df = df.dropna()\n",
    "\n",
    "# Convert the target column values to win/loss based on their values\n",
    "x = {'1': 'Win'}   \n",
    "df = df.replace(x)\n",
    "\n",
    "x = {'0': 'Loss'}   \n",
    "df = df.replace(x)\n",
    "\n",
    "df.reset_index(inplace=True, drop=True)\n",
    "\n",
    "df.head()\n",
    "\n",
    "#create column with FGA difference between teams\n",
    "trans_df[\"FGA_DIFF\"]=trans_df[\"FGA_HOME\"]-trans_df[\"FGA_AWAY\"]\n",
    "trans_df.drop(columns=[\"FGA_HOME\",\"FGA_AWAY\"], inplace=True)\n",
    "trans_df.head()\n",
    "\n",
    "#Create column with FG percent ratio between teams\n",
    "trans_df[\"FG_PCT_RATIO\"]=trans_df[\"FG_PCT_HOME\"]/trans_df[\"FG_PCT_AWAY\"]\n",
    "trans_df.drop(columns=[\"FG_PCT_HOME\", \"FG_PCT_AWAY\"], inplace=True)\n",
    "\n",
    "#Create column with 3-point FG percent ratio between teams\n",
    "trans_df[\"FG3_PCT_RATIO\"] = trans_df[\"FG3_PCT_HOME\"]/trans_df[\"FG3_PCT_AWAY\"]\n",
    "trans_df.drop(columns=[\"FG3_PCT_HOME\", \"FG3_PCT_AWAY\"], inplace = True)\n",
    "\n",
    "#Create column with Defensive rebound difference between teams\n",
    "trans_df[\"DREB_DIFF\"]=trans_df[\"DREB_HOME\"]-trans_df[\"DREB_AWAY\"]\n",
    "trans_df.drop(columns=[\"DREB_HOME\", \"DREB_AWAY\"], inplace =True)\n",
    "\n",
    "#Create column with rebound difference between teams\n",
    "trans_df[\"REB_DIFF\"]=trans_df[\"REB_HOME\"]-trans_df[\"REB_AWAY\"]\n",
    "trans_df.drop(columns=[\"REB_HOME\",\"REB_AWAY\"], inplace=True)\n",
    "\n",
    "#Create column with assist difference between teams\n",
    "trans_df[\"AST_DIFF\"]=trans_df[\"AST_HOME\"]-trans_df[\"AST_AWAY\"]\n",
    "trans_df.drop(columns=[\"AST_HOME\",\"AST_AWAY\"], inplace=True)\n",
    "\n",
    "win=trans_df[\"WIN\"]\n",
    "trans_df.head()\n",
    "\n",
    "win=trans_df[\"WIN\"]\n",
    "trans_df.drop(columns=[\"WIN\"], inplace=True)\n",
    "trans_df[\"WIN\"]=win\n",
    "trans_df.head()\n",
    "\"\"\""
   ]
  },
  {
   "cell_type": "markdown",
   "id": "8b7b7c0f",
   "metadata": {},
   "source": [
    "# Split the Data into Training and Testing"
   ]
  },
  {
   "cell_type": "code",
   "execution_count": 32,
   "id": "94dda0c2",
   "metadata": {},
   "outputs": [],
   "source": [
    "#Creating input and output data\n",
    "trans_df[\"WIN\"] = y\n",
    "y = trans_df[\"WIN\"]\n",
    "X_df = trans_df.drop([\"WIN\"], axis=1)"
   ]
  },
  {
   "cell_type": "code",
   "execution_count": 33,
   "id": "e9ef80a0",
   "metadata": {},
   "outputs": [
    {
     "data": {
      "text/plain": [
       "1    1646\n",
       "0    1354\n",
       "Name: WIN, dtype: int64"
      ]
     },
     "execution_count": 33,
     "metadata": {},
     "output_type": "execute_result"
    }
   ],
   "source": [
    "# Check the balance of our target values\n",
    "y.value_counts()"
   ]
  },
  {
   "cell_type": "code",
   "execution_count": 34,
   "id": "390c2780",
   "metadata": {},
   "outputs": [],
   "source": [
    "# Split the dataset\n",
    "X_train, X_test, y_train, y_test = train_test_split(X_df, y, random_state=1, stratify=y)"
   ]
  },
  {
   "cell_type": "markdown",
   "id": "63ef864c",
   "metadata": {},
   "source": [
    "# Balanced Random Forest Classifier"
   ]
  },
  {
   "cell_type": "code",
   "execution_count": 35,
   "id": "bac1ab28",
   "metadata": {},
   "outputs": [],
   "source": [
    "# Resample the training data with the BalancedRandomForestClassifier\n",
    "random_forest = BalancedRandomForestClassifier(n_estimators = 100)\n",
    "random_forest = random_forest.fit(X_train, y_train)"
   ]
  },
  {
   "cell_type": "code",
   "execution_count": 36,
   "id": "d9392a0f",
   "metadata": {},
   "outputs": [
    {
     "data": {
      "text/plain": [
       "0.5408887229275579"
      ]
     },
     "execution_count": 36,
     "metadata": {},
     "output_type": "execute_result"
    }
   ],
   "source": [
    "# Calculated the balanced accuracy score\n",
    "y_pred = random_forest.predict(X_test)\n",
    "balanced_accuracy_score(y_test, y_pred)"
   ]
  },
  {
   "cell_type": "code",
   "execution_count": 27,
   "id": "6b93d923",
   "metadata": {},
   "outputs": [
    {
     "data": {
      "text/plain": [
       "array([[195, 143],\n",
       "       [200, 212]], dtype=int64)"
      ]
     },
     "execution_count": 27,
     "metadata": {},
     "output_type": "execute_result"
    }
   ],
   "source": [
    "# Display the confusion matrix\n",
    "confusion_matrix(y_test, y_pred)"
   ]
  },
  {
   "cell_type": "code",
   "execution_count": 28,
   "id": "c3d7c1ef",
   "metadata": {
    "scrolled": true
   },
   "outputs": [
    {
     "name": "stdout",
     "output_type": "stream",
     "text": [
      "                   pre       rec       spe        f1       geo       iba       sup\n",
      "\n",
      "          0       0.49      0.58      0.51      0.53      0.54      0.30       338\n",
      "          1       0.60      0.51      0.58      0.55      0.54      0.30       412\n",
      "\n",
      "avg / total       0.55      0.54      0.55      0.54      0.54      0.30       750\n",
      "\n"
     ]
    }
   ],
   "source": [
    "# Print the imbalanced classification report\n",
    "from imblearn.metrics import classification_report_imbalanced\n",
    "print(classification_report_imbalanced(y_test, y_pred))"
   ]
  },
  {
   "cell_type": "code",
   "execution_count": 29,
   "id": "b82f29f9",
   "metadata": {},
   "outputs": [
    {
     "data": {
      "text/plain": [
       "[(0.17654064925843507, 'FGA_DIFF'),\n",
       " (0.17509186410846142, 'AST_DIFF'),\n",
       " (0.16873113003707288, 'REB_DIFF'),\n",
       " (0.16571714683416364, 'FG3_PCT_RATIO'),\n",
       " (0.16247191076164605, 'DREB_DIFF'),\n",
       " (0.1514472990002211, 'FG_PCT_RATIO')]"
      ]
     },
     "execution_count": 29,
     "metadata": {},
     "output_type": "execute_result"
    }
   ],
   "source": [
    "# List the features sorted in descending order by feature importance\n",
    "feature_names = X_df.columns\n",
    "sorted(zip(random_forest.feature_importances_, feature_names), reverse=True)"
   ]
  },
  {
   "cell_type": "code",
   "execution_count": 37,
   "id": "f9cbe629",
   "metadata": {},
   "outputs": [
    {
     "data": {
      "text/html": [
       "<div>\n",
       "<style scoped>\n",
       "    .dataframe tbody tr th:only-of-type {\n",
       "        vertical-align: middle;\n",
       "    }\n",
       "\n",
       "    .dataframe tbody tr th {\n",
       "        vertical-align: top;\n",
       "    }\n",
       "\n",
       "    .dataframe thead th {\n",
       "        text-align: right;\n",
       "    }\n",
       "</style>\n",
       "<table border=\"1\" class=\"dataframe\">\n",
       "  <thead>\n",
       "    <tr style=\"text-align: right;\">\n",
       "      <th></th>\n",
       "      <th>FGA_DIFF</th>\n",
       "      <th>FG_PCT_RATIO</th>\n",
       "      <th>FG3_PCT_RATIO</th>\n",
       "      <th>DREB_DIFF</th>\n",
       "      <th>REB_DIFF</th>\n",
       "      <th>AST_DIFF</th>\n",
       "    </tr>\n",
       "  </thead>\n",
       "  <tbody>\n",
       "    <tr>\n",
       "      <th>398</th>\n",
       "      <td>-1.35</td>\n",
       "      <td>1.000000</td>\n",
       "      <td>1.028571</td>\n",
       "      <td>2.30</td>\n",
       "      <td>1.00</td>\n",
       "      <td>-0.45</td>\n",
       "    </tr>\n",
       "    <tr>\n",
       "      <th>2721</th>\n",
       "      <td>-1.35</td>\n",
       "      <td>0.979592</td>\n",
       "      <td>1.000000</td>\n",
       "      <td>-0.50</td>\n",
       "      <td>0.65</td>\n",
       "      <td>0.25</td>\n",
       "    </tr>\n",
       "    <tr>\n",
       "      <th>2465</th>\n",
       "      <td>0.85</td>\n",
       "      <td>1.021277</td>\n",
       "      <td>1.028571</td>\n",
       "      <td>2.75</td>\n",
       "      <td>2.05</td>\n",
       "      <td>-0.35</td>\n",
       "    </tr>\n",
       "    <tr>\n",
       "      <th>2593</th>\n",
       "      <td>7.85</td>\n",
       "      <td>1.021739</td>\n",
       "      <td>0.971429</td>\n",
       "      <td>3.65</td>\n",
       "      <td>4.90</td>\n",
       "      <td>-1.65</td>\n",
       "    </tr>\n",
       "    <tr>\n",
       "      <th>1355</th>\n",
       "      <td>1.20</td>\n",
       "      <td>1.022222</td>\n",
       "      <td>1.000000</td>\n",
       "      <td>-1.70</td>\n",
       "      <td>-2.75</td>\n",
       "      <td>1.20</td>\n",
       "    </tr>\n",
       "    <tr>\n",
       "      <th>...</th>\n",
       "      <td>...</td>\n",
       "      <td>...</td>\n",
       "      <td>...</td>\n",
       "      <td>...</td>\n",
       "      <td>...</td>\n",
       "      <td>...</td>\n",
       "    </tr>\n",
       "    <tr>\n",
       "      <th>2428</th>\n",
       "      <td>-2.75</td>\n",
       "      <td>1.022222</td>\n",
       "      <td>1.058824</td>\n",
       "      <td>-2.15</td>\n",
       "      <td>-4.05</td>\n",
       "      <td>0.15</td>\n",
       "    </tr>\n",
       "    <tr>\n",
       "      <th>1015</th>\n",
       "      <td>3.20</td>\n",
       "      <td>0.934783</td>\n",
       "      <td>0.969697</td>\n",
       "      <td>2.85</td>\n",
       "      <td>4.50</td>\n",
       "      <td>-2.25</td>\n",
       "    </tr>\n",
       "    <tr>\n",
       "      <th>2578</th>\n",
       "      <td>8.65</td>\n",
       "      <td>1.000000</td>\n",
       "      <td>0.918919</td>\n",
       "      <td>2.95</td>\n",
       "      <td>4.00</td>\n",
       "      <td>0.85</td>\n",
       "    </tr>\n",
       "    <tr>\n",
       "      <th>556</th>\n",
       "      <td>-0.85</td>\n",
       "      <td>1.000000</td>\n",
       "      <td>0.888889</td>\n",
       "      <td>0.40</td>\n",
       "      <td>0.50</td>\n",
       "      <td>-2.15</td>\n",
       "    </tr>\n",
       "    <tr>\n",
       "      <th>2027</th>\n",
       "      <td>-0.75</td>\n",
       "      <td>1.068182</td>\n",
       "      <td>1.121212</td>\n",
       "      <td>-0.40</td>\n",
       "      <td>-1.60</td>\n",
       "      <td>1.80</td>\n",
       "    </tr>\n",
       "  </tbody>\n",
       "</table>\n",
       "<p>2250 rows × 6 columns</p>\n",
       "</div>"
      ],
      "text/plain": [
       "      FGA_DIFF  FG_PCT_RATIO  FG3_PCT_RATIO  DREB_DIFF  REB_DIFF  AST_DIFF\n",
       "398      -1.35      1.000000       1.028571       2.30      1.00     -0.45\n",
       "2721     -1.35      0.979592       1.000000      -0.50      0.65      0.25\n",
       "2465      0.85      1.021277       1.028571       2.75      2.05     -0.35\n",
       "2593      7.85      1.021739       0.971429       3.65      4.90     -1.65\n",
       "1355      1.20      1.022222       1.000000      -1.70     -2.75      1.20\n",
       "...        ...           ...            ...        ...       ...       ...\n",
       "2428     -2.75      1.022222       1.058824      -2.15     -4.05      0.15\n",
       "1015      3.20      0.934783       0.969697       2.85      4.50     -2.25\n",
       "2578      8.65      1.000000       0.918919       2.95      4.00      0.85\n",
       "556      -0.85      1.000000       0.888889       0.40      0.50     -2.15\n",
       "2027     -0.75      1.068182       1.121212      -0.40     -1.60      1.80\n",
       "\n",
       "[2250 rows x 6 columns]"
      ]
     },
     "execution_count": 37,
     "metadata": {},
     "output_type": "execute_result"
    }
   ],
   "source": [
    "X_train"
   ]
  },
  {
   "cell_type": "code",
   "execution_count": 39,
   "id": "f9f91448",
   "metadata": {},
   "outputs": [
    {
     "data": {
      "text/html": [
       "<div>\n",
       "<style scoped>\n",
       "    .dataframe tbody tr th:only-of-type {\n",
       "        vertical-align: middle;\n",
       "    }\n",
       "\n",
       "    .dataframe tbody tr th {\n",
       "        vertical-align: top;\n",
       "    }\n",
       "\n",
       "    .dataframe thead th {\n",
       "        text-align: right;\n",
       "    }\n",
       "</style>\n",
       "<table border=\"1\" class=\"dataframe\">\n",
       "  <thead>\n",
       "    <tr style=\"text-align: right;\">\n",
       "      <th></th>\n",
       "      <th>FGA_DIFF</th>\n",
       "      <th>FG_PCT_RATIO</th>\n",
       "      <th>FG3_PCT_RATIO</th>\n",
       "      <th>DREB_DIFF</th>\n",
       "      <th>REB_DIFF</th>\n",
       "      <th>AST_DIFF</th>\n",
       "    </tr>\n",
       "  </thead>\n",
       "  <tbody>\n",
       "    <tr>\n",
       "      <th>398</th>\n",
       "      <td>-1.35</td>\n",
       "      <td>1.0</td>\n",
       "      <td>1.028571</td>\n",
       "      <td>2.3</td>\n",
       "      <td>1.0</td>\n",
       "      <td>-0.45</td>\n",
       "    </tr>\n",
       "  </tbody>\n",
       "</table>\n",
       "</div>"
      ],
      "text/plain": [
       "     FGA_DIFF  FG_PCT_RATIO  FG3_PCT_RATIO  DREB_DIFF  REB_DIFF  AST_DIFF\n",
       "398     -1.35           1.0       1.028571        2.3       1.0     -0.45"
      ]
     },
     "execution_count": 39,
     "metadata": {},
     "output_type": "execute_result"
    }
   ],
   "source": [
    "X_train.head(1)"
   ]
  },
  {
   "cell_type": "code",
   "execution_count": 43,
   "id": "2da127b0",
   "metadata": {},
   "outputs": [
    {
     "data": {
      "text/plain": [
       "array([[0.81, 0.19],\n",
       "       [0.17, 0.83],\n",
       "       [0.21, 0.79],\n",
       "       [0.74, 0.26],\n",
       "       [0.23, 0.77]])"
      ]
     },
     "execution_count": 43,
     "metadata": {},
     "output_type": "execute_result"
    }
   ],
   "source": [
    "random_forest.predict_proba(X_train.head(5))"
   ]
  },
  {
   "cell_type": "code",
   "execution_count": null,
   "id": "84317248",
   "metadata": {},
   "outputs": [],
   "source": []
  }
 ],
 "metadata": {
  "kernelspec": {
   "display_name": "mlenv",
   "language": "python",
   "name": "mlenv"
  },
  "language_info": {
   "codemirror_mode": {
    "name": "ipython",
    "version": 3
   },
   "file_extension": ".py",
   "mimetype": "text/x-python",
   "name": "python",
   "nbconvert_exporter": "python",
   "pygments_lexer": "ipython3",
   "version": "3.7.11"
  }
 },
 "nbformat": 4,
 "nbformat_minor": 5
}
